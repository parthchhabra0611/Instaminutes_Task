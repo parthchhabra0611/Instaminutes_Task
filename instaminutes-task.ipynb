{
 "cells": [
  {
   "cell_type": "code",
   "execution_count": 1,
   "id": "e8cd1b52",
   "metadata": {
    "execution": {
     "iopub.execute_input": "2022-05-02T11:15:56.347300Z",
     "iopub.status.busy": "2022-05-02T11:15:56.346593Z",
     "iopub.status.idle": "2022-05-02T11:16:36.072584Z",
     "shell.execute_reply": "2022-05-02T11:16:36.071473Z"
    },
    "papermill": {
     "duration": 39.763537,
     "end_time": "2022-05-02T11:16:36.075831",
     "exception": false,
     "start_time": "2022-05-02T11:15:56.312294",
     "status": "completed"
    },
    "tags": []
   },
   "outputs": [
    {
     "name": "stdout",
     "output_type": "stream",
     "text": [
      "Collecting python-docx\r\n",
      "  Downloading python-docx-0.8.11.tar.gz (5.6 MB)\r\n",
      "\u001b[2K     \u001b[90m━━━━━━━━━━━━━━━━━━━━━━━━━━━━━━━━━━━━━━━━\u001b[0m \u001b[32m5.6/5.6 MB\u001b[0m \u001b[31m8.6 MB/s\u001b[0m eta \u001b[36m0:00:00\u001b[0m\r\n",
      "\u001b[?25h  Preparing metadata (setup.py) ... \u001b[?25l-\b \bdone\r\n",
      "\u001b[?25hRequirement already satisfied: lxml>=2.3.2 in /opt/conda/lib/python3.7/site-packages (from python-docx) (4.8.0)\r\n",
      "Building wheels for collected packages: python-docx\r\n",
      "  Building wheel for python-docx (setup.py) ... \u001b[?25l-\b \b\\\b \b|\b \bdone\r\n",
      "\u001b[?25h  Created wheel for python-docx: filename=python_docx-0.8.11-py3-none-any.whl size=184507 sha256=4b7e2819d112283e22bd7783baf2bf5d22a3b2ad0d3704c008c4af6af92fad6d\r\n",
      "  Stored in directory: /root/.cache/pip/wheels/f6/6f/b9/d798122a8b55b74ad30b5f52b01482169b445fbb84a11797a6\r\n",
      "Successfully built python-docx\r\n",
      "Installing collected packages: python-docx\r\n",
      "Successfully installed python-docx-0.8.11\r\n",
      "\u001b[33mWARNING: Running pip as the 'root' user can result in broken permissions and conflicting behaviour with the system package manager. It is recommended to use a virtual environment instead: https://pip.pypa.io/warnings/venv\u001b[0m\u001b[33m\r\n",
      "\u001b[0mCollecting bert-extractive-summarizer\r\n",
      "  Downloading bert_extractive_summarizer-0.10.1-py3-none-any.whl (25 kB)\r\n",
      "Requirement already satisfied: transformers in /opt/conda/lib/python3.7/site-packages (from bert-extractive-summarizer) (4.18.0)\r\n",
      "Requirement already satisfied: scikit-learn in /opt/conda/lib/python3.7/site-packages (from bert-extractive-summarizer) (1.0.2)\r\n",
      "Requirement already satisfied: spacy in /opt/conda/lib/python3.7/site-packages (from bert-extractive-summarizer) (3.2.4)\r\n",
      "Requirement already satisfied: numpy>=1.14.6 in /opt/conda/lib/python3.7/site-packages (from scikit-learn->bert-extractive-summarizer) (1.21.6)\r\n",
      "Requirement already satisfied: scipy>=1.1.0 in /opt/conda/lib/python3.7/site-packages (from scikit-learn->bert-extractive-summarizer) (1.7.3)\r\n",
      "Requirement already satisfied: threadpoolctl>=2.0.0 in /opt/conda/lib/python3.7/site-packages (from scikit-learn->bert-extractive-summarizer) (3.1.0)\r\n",
      "Requirement already satisfied: joblib>=0.11 in /opt/conda/lib/python3.7/site-packages (from scikit-learn->bert-extractive-summarizer) (1.0.1)\r\n",
      "Requirement already satisfied: packaging>=20.0 in /opt/conda/lib/python3.7/site-packages (from spacy->bert-extractive-summarizer) (21.3)\r\n",
      "Collecting typing-extensions<4.0.0.0,>=3.7.4\r\n",
      "  Downloading typing_extensions-3.10.0.2-py3-none-any.whl (26 kB)\r\n",
      "Requirement already satisfied: pathy>=0.3.5 in /opt/conda/lib/python3.7/site-packages (from spacy->bert-extractive-summarizer) (0.6.1)\r\n",
      "Requirement already satisfied: preshed<3.1.0,>=3.0.2 in /opt/conda/lib/python3.7/site-packages (from spacy->bert-extractive-summarizer) (3.0.6)\r\n",
      "Requirement already satisfied: wasabi<1.1.0,>=0.8.1 in /opt/conda/lib/python3.7/site-packages (from spacy->bert-extractive-summarizer) (0.9.1)\r\n",
      "Requirement already satisfied: srsly<3.0.0,>=2.4.1 in /opt/conda/lib/python3.7/site-packages (from spacy->bert-extractive-summarizer) (2.4.3)\r\n",
      "Requirement already satisfied: catalogue<2.1.0,>=2.0.6 in /opt/conda/lib/python3.7/site-packages (from spacy->bert-extractive-summarizer) (2.0.7)\r\n",
      "Requirement already satisfied: tqdm<5.0.0,>=4.38.0 in /opt/conda/lib/python3.7/site-packages (from spacy->bert-extractive-summarizer) (4.63.0)\r\n",
      "Requirement already satisfied: blis<0.8.0,>=0.4.0 in /opt/conda/lib/python3.7/site-packages (from spacy->bert-extractive-summarizer) (0.7.7)\r\n",
      "Requirement already satisfied: setuptools in /opt/conda/lib/python3.7/site-packages (from spacy->bert-extractive-summarizer) (59.8.0)\r\n",
      "Requirement already satisfied: cymem<2.1.0,>=2.0.2 in /opt/conda/lib/python3.7/site-packages (from spacy->bert-extractive-summarizer) (2.0.6)\r\n",
      "Requirement already satisfied: thinc<8.1.0,>=8.0.12 in /opt/conda/lib/python3.7/site-packages (from spacy->bert-extractive-summarizer) (8.0.15)\r\n",
      "Requirement already satisfied: pydantic!=1.8,!=1.8.1,<1.9.0,>=1.7.4 in /opt/conda/lib/python3.7/site-packages (from spacy->bert-extractive-summarizer) (1.8.2)\r\n",
      "Requirement already satisfied: spacy-loggers<2.0.0,>=1.0.0 in /opt/conda/lib/python3.7/site-packages (from spacy->bert-extractive-summarizer) (1.0.2)\r\n",
      "Requirement already satisfied: murmurhash<1.1.0,>=0.28.0 in /opt/conda/lib/python3.7/site-packages (from spacy->bert-extractive-summarizer) (1.0.7)\r\n",
      "Requirement already satisfied: langcodes<4.0.0,>=3.2.0 in /opt/conda/lib/python3.7/site-packages (from spacy->bert-extractive-summarizer) (3.3.0)\r\n",
      "Requirement already satisfied: requests<3.0.0,>=2.13.0 in /opt/conda/lib/python3.7/site-packages (from spacy->bert-extractive-summarizer) (2.27.1)\r\n",
      "Requirement already satisfied: jinja2 in /opt/conda/lib/python3.7/site-packages (from spacy->bert-extractive-summarizer) (3.1.1)\r\n",
      "Requirement already satisfied: spacy-legacy<3.1.0,>=3.0.8 in /opt/conda/lib/python3.7/site-packages (from spacy->bert-extractive-summarizer) (3.0.9)\r\n",
      "Requirement already satisfied: click<8.1.0 in /opt/conda/lib/python3.7/site-packages (from spacy->bert-extractive-summarizer) (8.0.4)\r\n",
      "Requirement already satisfied: typer<0.5.0,>=0.3.0 in /opt/conda/lib/python3.7/site-packages (from spacy->bert-extractive-summarizer) (0.4.1)\r\n",
      "Requirement already satisfied: regex!=2019.12.17 in /opt/conda/lib/python3.7/site-packages (from transformers->bert-extractive-summarizer) (2021.11.10)\r\n",
      "Requirement already satisfied: sacremoses in /opt/conda/lib/python3.7/site-packages (from transformers->bert-extractive-summarizer) (0.0.49)\r\n",
      "Requirement already satisfied: pyyaml>=5.1 in /opt/conda/lib/python3.7/site-packages (from transformers->bert-extractive-summarizer) (6.0)\r\n",
      "Requirement already satisfied: importlib-metadata in /opt/conda/lib/python3.7/site-packages (from transformers->bert-extractive-summarizer) (4.11.3)\r\n",
      "Requirement already satisfied: filelock in /opt/conda/lib/python3.7/site-packages (from transformers->bert-extractive-summarizer) (3.6.0)\r\n",
      "Requirement already satisfied: huggingface-hub<1.0,>=0.1.0 in /opt/conda/lib/python3.7/site-packages (from transformers->bert-extractive-summarizer) (0.5.1)\r\n",
      "Requirement already satisfied: tokenizers!=0.11.3,<0.13,>=0.11.1 in /opt/conda/lib/python3.7/site-packages (from transformers->bert-extractive-summarizer) (0.12.1)\r\n",
      "Requirement already satisfied: zipp>=0.5 in /opt/conda/lib/python3.7/site-packages (from catalogue<2.1.0,>=2.0.6->spacy->bert-extractive-summarizer) (3.7.0)\r\n",
      "Requirement already satisfied: pyparsing!=3.0.5,>=2.0.2 in /opt/conda/lib/python3.7/site-packages (from packaging>=20.0->spacy->bert-extractive-summarizer) (3.0.7)\r\n",
      "Requirement already satisfied: smart-open<6.0.0,>=5.0.0 in /opt/conda/lib/python3.7/site-packages (from pathy>=0.3.5->spacy->bert-extractive-summarizer) (5.2.1)\r\n",
      "Requirement already satisfied: charset-normalizer~=2.0.0 in /opt/conda/lib/python3.7/site-packages (from requests<3.0.0,>=2.13.0->spacy->bert-extractive-summarizer) (2.0.12)\r\n",
      "Requirement already satisfied: urllib3<1.27,>=1.21.1 in /opt/conda/lib/python3.7/site-packages (from requests<3.0.0,>=2.13.0->spacy->bert-extractive-summarizer) (1.26.8)\r\n",
      "Requirement already satisfied: idna<4,>=2.5 in /opt/conda/lib/python3.7/site-packages (from requests<3.0.0,>=2.13.0->spacy->bert-extractive-summarizer) (3.3)\r\n",
      "Requirement already satisfied: certifi>=2017.4.17 in /opt/conda/lib/python3.7/site-packages (from requests<3.0.0,>=2.13.0->spacy->bert-extractive-summarizer) (2021.10.8)\r\n",
      "Requirement already satisfied: MarkupSafe>=2.0 in /opt/conda/lib/python3.7/site-packages (from jinja2->spacy->bert-extractive-summarizer) (2.0.1)\r\n",
      "Requirement already satisfied: six in /opt/conda/lib/python3.7/site-packages (from sacremoses->transformers->bert-extractive-summarizer) (1.16.0)\r\n",
      "Installing collected packages: typing-extensions, bert-extractive-summarizer\r\n",
      "  Attempting uninstall: typing-extensions\r\n",
      "    Found existing installation: typing_extensions 4.2.0\r\n",
      "    Uninstalling typing_extensions-4.2.0:\r\n",
      "      Successfully uninstalled typing_extensions-4.2.0\r\n",
      "\u001b[31mERROR: pip's dependency resolver does not currently take into account all the packages that are installed. This behaviour is the source of the following dependency conflicts.\r\n",
      "tensorflow-io 0.21.0 requires tensorflow-io-gcs-filesystem==0.21.0, which is not installed.\r\n",
      "tensorflow 2.6.3 requires absl-py~=0.10, but you have absl-py 1.0.0 which is incompatible.\r\n",
      "tensorflow 2.6.3 requires numpy~=1.19.2, but you have numpy 1.21.6 which is incompatible.\r\n",
      "tensorflow 2.6.3 requires six~=1.15.0, but you have six 1.16.0 which is incompatible.\r\n",
      "tensorflow 2.6.3 requires wrapt~=1.12.1, but you have wrapt 1.14.0 which is incompatible.\r\n",
      "tensorflow-transform 1.7.0 requires pyarrow<6,>=1, but you have pyarrow 7.0.0 which is incompatible.\r\n",
      "tensorflow-transform 1.7.0 requires tensorflow!=2.0.*,!=2.1.*,!=2.2.*,!=2.3.*,!=2.4.*,!=2.5.*,!=2.6.*,!=2.7.*,<2.9,>=1.15.5, but you have tensorflow 2.6.3 which is incompatible.\r\n",
      "tensorflow-serving-api 2.8.0 requires tensorflow<3,>=2.8.0, but you have tensorflow 2.6.3 which is incompatible.\r\n",
      "rich 12.2.0 requires typing-extensions<5.0,>=4.0.0; python_version < \"3.9\", but you have typing-extensions 3.10.0.2 which is incompatible.\r\n",
      "pytorch-lightning 1.6.1 requires typing-extensions>=4.0.0, but you have typing-extensions 3.10.0.2 which is incompatible.\r\n",
      "flake8 4.0.1 requires importlib-metadata<4.3; python_version < \"3.8\", but you have importlib-metadata 4.11.3 which is incompatible.\r\n",
      "apache-beam 2.37.0 requires dill<0.3.2,>=0.3.1.1, but you have dill 0.3.4 which is incompatible.\r\n",
      "apache-beam 2.37.0 requires httplib2<0.20.0,>=0.8, but you have httplib2 0.20.4 which is incompatible.\r\n",
      "apache-beam 2.37.0 requires pyarrow<7.0.0,>=0.15.1, but you have pyarrow 7.0.0 which is incompatible.\r\n",
      "aioitertools 0.10.0 requires typing_extensions>=4.0; python_version < \"3.10\", but you have typing-extensions 3.10.0.2 which is incompatible.\r\n",
      "aiobotocore 2.2.0 requires botocore<1.24.22,>=1.24.21, but you have botocore 1.25.0 which is incompatible.\u001b[0m\u001b[31m\r\n",
      "\u001b[0mSuccessfully installed bert-extractive-summarizer-0.10.1 typing-extensions-3.10.0.2\r\n",
      "\u001b[33mWARNING: Running pip as the 'root' user can result in broken permissions and conflicting behaviour with the system package manager. It is recommended to use a virtual environment instead: https://pip.pypa.io/warnings/venv\u001b[0m\u001b[33m\r\n",
      "\u001b[0m"
     ]
    }
   ],
   "source": [
    "!pip install python-docx\n",
    "!pip install bert-extractive-summarizer"
   ]
  },
  {
   "cell_type": "markdown",
   "id": "0ddab184",
   "metadata": {
    "papermill": {
     "duration": 0.047189,
     "end_time": "2022-05-02T11:16:36.168126",
     "exception": false,
     "start_time": "2022-05-02T11:16:36.120937",
     "status": "completed"
    },
    "tags": []
   },
   "source": [
    "## IMPORTS"
   ]
  },
  {
   "cell_type": "code",
   "execution_count": 2,
   "id": "a827f088",
   "metadata": {
    "execution": {
     "iopub.execute_input": "2022-05-02T11:16:36.256233Z",
     "iopub.status.busy": "2022-05-02T11:16:36.255830Z",
     "iopub.status.idle": "2022-05-02T11:16:48.303550Z",
     "shell.execute_reply": "2022-05-02T11:16:48.302578Z"
    },
    "papermill": {
     "duration": 12.095017,
     "end_time": "2022-05-02T11:16:48.306566",
     "exception": false,
     "start_time": "2022-05-02T11:16:36.211549",
     "status": "completed"
    },
    "tags": []
   },
   "outputs": [],
   "source": [
    "import docx\n",
    "from summarizer import Summarizer\n",
    "import spacy\n",
    "from spacy.lang.en.stop_words import STOP_WORDS\n",
    "from string import punctuation\n",
    "from heapq import nlargest"
   ]
  },
  {
   "cell_type": "markdown",
   "id": "d11fc61a",
   "metadata": {
    "papermill": {
     "duration": 0.046536,
     "end_time": "2022-05-02T11:16:48.396952",
     "exception": false,
     "start_time": "2022-05-02T11:16:48.350416",
     "status": "completed"
    },
    "tags": []
   },
   "source": [
    "## Functions to colorise/hightlight text"
   ]
  },
  {
   "cell_type": "code",
   "execution_count": 3,
   "id": "35a91d12",
   "metadata": {
    "execution": {
     "iopub.execute_input": "2022-05-02T11:16:48.489454Z",
     "iopub.status.busy": "2022-05-02T11:16:48.488774Z",
     "iopub.status.idle": "2022-05-02T11:16:48.499255Z",
     "shell.execute_reply": "2022-05-02T11:16:48.498477Z"
    },
    "papermill": {
     "duration": 0.062401,
     "end_time": "2022-05-02T11:16:48.501581",
     "exception": false,
     "start_time": "2022-05-02T11:16:48.439180",
     "status": "completed"
    },
    "tags": []
   },
   "outputs": [],
   "source": [
    "def colourise(colour, text):\n",
    "    if colour == \"black\":\n",
    "        return \"\\033[1;30m\" + str(text) + \"\\033[1;m\"\n",
    "    if colour == \"red\":\n",
    "        return \"\\033[1;31m\" + str(text) + \"\\033[1;m\"\n",
    "    if colour == \"green\":\n",
    "        return \"\\033[1;32m\" + str(text) + \"\\033[1;m\"\n",
    "    if colour == \"yellow\":\n",
    "        return \"\\033[1;33m\" + str(text) + \"\\033[1;m\"\n",
    "    if colour == \"blue\":\n",
    "        return \"\\033[1;34m\" + str(text) + \"\\033[1;m\"\n",
    "    if colour == \"magenta\":\n",
    "        return \"\\033[1;35m\" + str(text) + \"\\033[1;m\"\n",
    "    if colour == \"cyan\":\n",
    "        return \"\\033[1;36m\" + str(text) + \"\\033[1;m\"\n",
    "    if colour == \"gray\":\n",
    "        return \"\\033[1;37m\" + str(text) + \"\\033[1;m\"\n",
    "    return str(text)\n",
    "\n",
    "def highlight(colour, text):\n",
    "    if colour == \"black\":\n",
    "        return \"\\033[1;40m\" + str(text) + \"\\033[1;m\"\n",
    "    if colour == \"red\":\n",
    "        return \"\\033[1;41m\" + str(text) + \"\\033[1;m\"\n",
    "    if colour == \"green\":\n",
    "        return \"\\033[1;42m\" + str(text) + \"\\033[1;m\"\n",
    "    if colour == \"yellow\":\n",
    "        return \"\\033[1;43m\" + str(text) + \"\\033[1;m\"\n",
    "    if colour == \"blue\":\n",
    "        return \"\\033[1;44m\" + str(text) + \"\\033[1;m\"\n",
    "    if colour == \"magenta\":\n",
    "        return \"\\033[1;45m\" + str(text) + \"\\033[1;m\"\n",
    "    if colour == \"cyan\":\n",
    "        return \"\\033[1;46m\" + str(text) + \"\\033[1;m\"\n",
    "    if colour == \"gray\":\n",
    "        return \"\\033[1;47m\" + str(text) + \"\\033[1;m\"\n",
    "    return str(text)\n",
    "\n",
    "#print(colourise(\"red\", \"Red\"))\n",
    "#print(highlight(\"yellow\", \"Highlight: yellow\"))"
   ]
  },
  {
   "cell_type": "markdown",
   "id": "1aa41d6c",
   "metadata": {
    "papermill": {
     "duration": 0.041348,
     "end_time": "2022-05-02T11:16:48.586782",
     "exception": false,
     "start_time": "2022-05-02T11:16:48.545434",
     "status": "completed"
    },
    "tags": []
   },
   "source": [
    "## Using docx library to get text from file"
   ]
  },
  {
   "cell_type": "code",
   "execution_count": 4,
   "id": "b24f54fa",
   "metadata": {
    "execution": {
     "iopub.execute_input": "2022-05-02T11:16:48.672769Z",
     "iopub.status.busy": "2022-05-02T11:16:48.672122Z",
     "iopub.status.idle": "2022-05-02T11:16:48.676659Z",
     "shell.execute_reply": "2022-05-02T11:16:48.675933Z"
    },
    "papermill": {
     "duration": 0.050161,
     "end_time": "2022-05-02T11:16:48.678701",
     "exception": false,
     "start_time": "2022-05-02T11:16:48.628540",
     "status": "completed"
    },
    "tags": []
   },
   "outputs": [],
   "source": [
    "def getText(filename):\n",
    "    doc = docx.Document(filename)\n",
    "    fullText = []\n",
    "    for para in doc.paragraphs:\n",
    "        fullText.append(para.text)\n",
    "    return ' . '.join(fullText)"
   ]
  },
  {
   "cell_type": "code",
   "execution_count": 5,
   "id": "bce3e673",
   "metadata": {
    "execution": {
     "iopub.execute_input": "2022-05-02T11:16:48.772828Z",
     "iopub.status.busy": "2022-05-02T11:16:48.772210Z",
     "iopub.status.idle": "2022-05-02T11:16:48.808247Z",
     "shell.execute_reply": "2022-05-02T11:16:48.807281Z"
    },
    "papermill": {
     "duration": 0.085688,
     "end_time": "2022-05-02T11:16:48.811247",
     "exception": false,
     "start_time": "2022-05-02T11:16:48.725559",
     "status": "completed"
    },
    "tags": []
   },
   "outputs": [
    {
     "data": {
      "text/plain": [
       "\"Yes Gauri tell me tell me something about you .   . Okay ahh thank you for allowing me to introduce myself. My name is Gauri shirmali. I am from Udaipur Rajasthan. I'm doing computer science engineering from Geetanjali Institute of technical studies. I secured 9.2 c GPA in 10, standard 73.4 Cgp ahh percentage in 12 standard. And currently an engineering my aggregate score is 77 percentage. computer sciences is omnipresent that is it is present in every field and hence I have invested these last 3.5 almost years and a developing my software skills My technical skills include programming in Python, Java, C, c++, databases I am also familiar with web development, Kubernetes, Docker, Ansible, et cetera. So these all are my technical skills. And I’ve  also used this skills to build several projects, which include user management project and attendance management project. I've also participated in smart India hackathons of which ahh in one we also got to the finals. Ahh these are my technical skills, coming to my extracurricular activities I love to dance umm particularly semi classical dance. I also like to read write and paint have been the student editor of our colleges newsletter bits and bytes. And currently I am one of the cultural heads of our students club, So I've I have also participated in several donation camps several donation camps as I am a  a member of the Rotary Club Udaipur, I consider myself as a very focused person, I’ve  and I always work towards my goals and in a very efficient manner. I am a team player and very optimistic in tough times And lastly I would like to say that why not start the journey of my success by the success of joining TCS Thank you so much. .   . Okay ahh What are the five specific point about Tcs which makes Tcs different from the other IT MNCs? .   . Sure firstly sir ahh tcs is has a brand name, it is known it is a multinational company and it has a very good brand name and thus it would give me a good start for my career. Secondly, it has a work life balance. I have talked to many of my friends who are in Tcs and they say that Tcs gives a very good work life balance. So that is the second point. Third point is the colleagues there hardraw very futuristic in their skills. So there is a lot to learn from them. Fourthly, as Tcs is a multinational company, I would like to I would have the chance to even uhh go abroad and a meet a people of different nationalities. And lastly there as Tcs is has been in the industry for almost hundred and fifty years. So it gives me a sense of job security to some extent. .   . Okay what are the ethical values Tcs have? .   . sir like I said there is a work life balance and it a it it promotes like gender equality ,there is no like discrimination on the basis of that. And it so it's very good ethics overall. .   . Okay okay Gauri nice talking to you , thankyou sir , and  I request kernel rathor sir to take next part of interview Right. .   . Thankyou so much sir .   . Good afternoon .   . Good afternoon sir .   . All prepare .   . Yes sir .   . Okay Tell us which other campus interviews Have you appeared for and what has been the results? .   . So I have interviewed for darnet, which is an depor only and I got selected for it. I also interviewed for gateway industries. I was not selected in the interview I got to the interview part but was not selected So that's it. I've only given these interviews. .   . Okay Have you analyzed Why you didn't get selected for gateway? .   . Sir in gateway I might have not answered the technical questions very well as compared to the other candidates. .   . Okay so how have you prepared for TCS interview now? .   . Sir I have an enhanced my technical skills I have been preparing for the core subjects, and I've been doing coding almost every day So I think that I prepared quite well For Tcs. .   . Okay ahhh umm  Gauri tell me what are your future plans? .   . Sir my future plans sir if I join TCS or otherwise .   . What are your future plans ? .   . Sir I want to join a software company and a work for it. And I want to a learn as much ah like as much languages and as much skills as I can and I also want to achieve great success so that I'm satisfied with what I've learned .   . Okay ah what do you think are the reasons for youngsters switching over jobs? .   . Sir maybe it is job satisfaction because they enter a company without a a seeing the background of the company and then they later find out that the company was not suitable for them. .   . Okay. That's for you, what are the three important things ah that ah one should consider before joining any organization as a fresher? .   . So firstly the one should look if there is a lot to learn from the company, I mean, there should be a very steep like growing curve in the company. Secondly, they should be like the colleagues and everything should be very frank so that they help you in every way and thirdly  for me there should be a brand name so that there is a satisfaction that yes I have achieved a level and now I can go to the next level. .   . Okay technically what gives you job satisfaction? .   . Sir technically the latest I want to go with latest technical skills, like not obsolete technologies, but the latest technologies. .   . So how does TCS fit into your requirement? .   . Sir tcs changes with technologies according to the needs of the people of the or so there is not a there is no fixed technology that they use they use according to the clients which is very well. .   . which are the major clients of TCS? Can you name three or four of them? .   . I'm sorry sir but I'm not aware of the clients. .   . Okay sure anything that you want to ask? .   . Sir will I be able to like fit in the company? I mean what do you think? .   . Will you be able to fit into the company? .   . Yes sir .   . Yeah, as per your own analysis, you said you're a good team player and what requirements you said for a good job in case you have those qualities I'm sure you will be able to fit into. .   . Okay, sir, thank you any more suggestions for me? .   . No nothing more adventure will finally give his remarks. .   . Thank you so much sir. .   . All the best right .   . Gauri .   . Yes sir .   . What is your basically the aim you want to go into software companies or anything more than that? .   . No sir I want to go into software companies that is aim .   . okay. You don't want to go for any higher studies or entrepreneurship like. .   . No sir entrepreneurship No  but the highest studies many of the companies Tcs also provide like conc simultaneously highest studies So that may also be a very good option. .   . Okay for example you have got you have got the offer from Tcs Or at the same time Meanwhile you're getting the better offer than Tcs from another organization which is not a tier one organization but tier two organization but the packages just develop what we are offering then what you will do? .   . a sir I compare both the companies in terms of the .   . defiantly I’ve told the tcs is the tier one and you've got the offer from tier two it means the startup or midsize company with the package for example, we are giving you four lakh they are giving you eight lakh in that case what do you do? .   .  Sir I choose Tcs only because Tcs is like almost hundred and fifty years old company so it it has a very good job security. And as I cannot really trust a startup because they are new in the industry, and that's why there is there might be some trust issues so i .   . At least salary does not matter for you ? .   . Sir job security is more important than a salary .   . if you will not perform well in the tcs also you can get the job insecurity in tcs also. .   . Sir but I will perform good and I would like from my end there will be no complaints from Tcs. .   . Okay yeah .   . Gauri .   . Good afternoon sir .   . Good afternoon ah which domain you feel comfortable? .   . Ah sir core subject subjects programming C++ , DBMS Yes sir. .   . So, give me a concept to implement snake and ladder. .   . implement Snakes and Ladders using any programming language? .   . I want to know only concept not the implementation Okay I'm giving you the one minute .   . Hmm  sir can I write something .   .  Yes yes but I need only logic right not the coding a code part. .   . Ok sir .   . Hua Gauri .   . Yes sir thoda thoda ah sir we can .   . Verbaly btao to bus when I can analyze that you are going in the right direction or not. .   . Okay sir ah so ah firstly a we will the will like a this for example of how how many columns are there for example, I take disk of fifty the maximum we take a fifty and then now we take dice. so a variable in which we will take a random function with the help of random function, we can derive a number between one to six and for the first for the first move, if the numbers random number is six, then we can move like we can keep a counter of the player. so we can increase the counter with the numbers that comes in the dice. And then now we can predefine the snakes for example, if at if we reach five then the the counter should like increased by 10 blocks. so the counter will increase by ten block That is the ladder and this way we can like pre define the next. .   . My next is the how you will how you will determine whether to you have to increment its dice value means you you own to use it's increasing the counter value in form of ladder yes sir or you have to decrement the counter value in form of snake. so how you will determine it. .   . Sir with the help of functions. For example, if the dice value for if if the dice value or the that block value in which the counter is right now is five so I have assigned five already that five is a ladder, so then it will increase and for example if 12 is a snake then I've already defined that at 12 you need to decrement the value by for example FIFO or whatever. So I will predefined .   . where you will predefined these values? .   . So I can use a dictionary to like if I'm doing in Python then I can use it dictonary. .   . If we are using C then and C++, Java there we doesn't have any dictionary .   . Then sir we can ah we can use array of arrays and then like make dictionary with the help of arrays .   . Okay yes can we switch or not there? .   . switch yes hnn but so we can use but it is too long like we will have to write the code many times in switch .   . why many times we can define a in switch global or anywhere then we can use it .   . cause switch for snake and switch for a ladder two separate switches we can use yes sir that we can .   . ahh so what do you mean by the encapsulation is Divyansh answer is correct. .   . Sir partially it is correct it is used for data hiding but more data security. So aa in our class it is implemented using access modifiers like public protected private and there is a default access specifier as well. So ahh using these we can a define the scope of the variables or the functions like if it is public then it can be used all through and if it is protected then only the subclasses can use it and if private then only the current class can use it. .   . What do you mean by storage classes ? .   . A storage classes sir im no able to recall ive a .   . Okay gauri all the best .   . Thankyou so much .   . Explore more and more Tcs technical interview questions right? Ok sir They are basically mainly from C and C++. .   . Okay sir ill keep that in mind thankyou so much sir all the best thank you .   . A from my side and rathor sir interview my remark for you definitely you are the good candidate that we have already observed many time ahh technical knowledge I have not checked out your head of department CAC will check it out but a you can easily correct the process. .   . Okay thank you so much sir .   . Or a when you are clear about your thought process then at least it should be justified when you are giving the interviews Yes sir sure it is very important ok sir if they feel that you want to come but you can not come then then there is a chances they can drop you. Either you are a good candidate or the best for example Google want to hire somebody or they find the candidate which is having the capabilities to get a caror package in a anom. But they have the doubt that no doubt is the best but they have the doubt that either he'll join or not. then might be they can drop so yes that kind of condition in the interview at least shoud not be so case. .   . Okay I'll keep that in mind sir thank you .   . Otherwise all set all right ok .   . Thank you .   . Thank you sir .   . \""
      ]
     },
     "execution_count": 5,
     "metadata": {},
     "output_type": "execute_result"
    }
   ],
   "source": [
    "text = getText('../input/instaminutes-task-file/ML Input.docx')\n",
    "text"
   ]
  },
  {
   "cell_type": "code",
   "execution_count": 6,
   "id": "6cfa16d7",
   "metadata": {
    "execution": {
     "iopub.execute_input": "2022-05-02T11:16:48.906962Z",
     "iopub.status.busy": "2022-05-02T11:16:48.905784Z",
     "iopub.status.idle": "2022-05-02T11:16:48.916236Z",
     "shell.execute_reply": "2022-05-02T11:16:48.914904Z"
    },
    "papermill": {
     "duration": 0.065441,
     "end_time": "2022-05-02T11:16:48.919853",
     "exception": false,
     "start_time": "2022-05-02T11:16:48.854412",
     "status": "completed"
    },
    "tags": []
   },
   "outputs": [],
   "source": [
    "def generate_final1(text, summ_split):\n",
    "    final_text = text\n",
    "    for i in range(len(summ_split)):\n",
    "        if summ_split[i] in text and summ_split[i].strip()!='':\n",
    "            final_text = final_text.replace(summ_split[i], highlight('yellow', summ_split[i]))\n",
    "            \n",
    "    final_text = '.'.join([x for x in final_text.split('.') if x])\n",
    "    return final_text"
   ]
  },
  {
   "cell_type": "code",
   "execution_count": 7,
   "id": "3b98097b",
   "metadata": {
    "execution": {
     "iopub.execute_input": "2022-05-02T11:16:49.029852Z",
     "iopub.status.busy": "2022-05-02T11:16:49.029058Z",
     "iopub.status.idle": "2022-05-02T11:16:49.037239Z",
     "shell.execute_reply": "2022-05-02T11:16:49.036232Z"
    },
    "papermill": {
     "duration": 0.067119,
     "end_time": "2022-05-02T11:16:49.040179",
     "exception": false,
     "start_time": "2022-05-02T11:16:48.973060",
     "status": "completed"
    },
    "tags": []
   },
   "outputs": [],
   "source": [
    "def generate_final2(text, summary):\n",
    "    final_text = text\n",
    "    summ_split = summary.split('.')\n",
    "    for i in range(len(summ_split)):\n",
    "        if summ_split[i] in text and summ_split[i].strip()!='':\n",
    "            final_text = final_text.replace(summ_split[i], highlight('yellow', summ_split[i]))\n",
    "            \n",
    "    final_text = '.'.join([x for x in final_text.split('.') if x])\n",
    "    return final_text"
   ]
  },
  {
   "cell_type": "code",
   "execution_count": null,
   "id": "dd4bee9d",
   "metadata": {
    "papermill": {
     "duration": 0.049246,
     "end_time": "2022-05-02T11:16:49.135929",
     "exception": false,
     "start_time": "2022-05-02T11:16:49.086683",
     "status": "completed"
    },
    "tags": []
   },
   "outputs": [],
   "source": []
  },
  {
   "cell_type": "markdown",
   "id": "10491298",
   "metadata": {
    "papermill": {
     "duration": 0.050757,
     "end_time": "2022-05-02T11:16:49.231603",
     "exception": false,
     "start_time": "2022-05-02T11:16:49.180846",
     "status": "completed"
    },
    "tags": []
   },
   "source": [
    "## METHOD 1 -- NER\n"
   ]
  },
  {
   "cell_type": "code",
   "execution_count": 8,
   "id": "d47ea1ea",
   "metadata": {
    "execution": {
     "iopub.execute_input": "2022-05-02T11:16:49.331063Z",
     "iopub.status.busy": "2022-05-02T11:16:49.330212Z",
     "iopub.status.idle": "2022-05-02T11:16:54.983501Z",
     "shell.execute_reply": "2022-05-02T11:16:54.982463Z"
    },
    "papermill": {
     "duration": 5.702015,
     "end_time": "2022-05-02T11:16:54.986387",
     "exception": false,
     "start_time": "2022-05-02T11:16:49.284372",
     "status": "completed"
    },
    "tags": []
   },
   "outputs": [],
   "source": [
    "nlp = spacy.load('en_core_web_lg')"
   ]
  },
  {
   "cell_type": "code",
   "execution_count": 9,
   "id": "b25a1829",
   "metadata": {
    "execution": {
     "iopub.execute_input": "2022-05-02T11:16:55.080103Z",
     "iopub.status.busy": "2022-05-02T11:16:55.079717Z",
     "iopub.status.idle": "2022-05-02T11:16:57.265655Z",
     "shell.execute_reply": "2022-05-02T11:16:57.264344Z"
    },
    "papermill": {
     "duration": 2.235216,
     "end_time": "2022-05-02T11:16:57.268447",
     "exception": false,
     "start_time": "2022-05-02T11:16:55.033231",
     "status": "completed"
    },
    "tags": []
   },
   "outputs": [],
   "source": [
    "text_split = text.split('.')\n",
    "summary_ner_list = []\n",
    "for te in text_split:\n",
    "    doc = nlp(te)\n",
    "    if len(doc.ents)!=0:\n",
    "        summary_ner_list += [te]\n",
    "summary_ner = ' '.join(summary_ner_list)"
   ]
  },
  {
   "cell_type": "code",
   "execution_count": 10,
   "id": "e28327e4",
   "metadata": {
    "execution": {
     "iopub.execute_input": "2022-05-02T11:16:57.356381Z",
     "iopub.status.busy": "2022-05-02T11:16:57.356040Z",
     "iopub.status.idle": "2022-05-02T11:16:57.362790Z",
     "shell.execute_reply": "2022-05-02T11:16:57.361873Z"
    },
    "papermill": {
     "duration": 0.052874,
     "end_time": "2022-05-02T11:16:57.364947",
     "exception": false,
     "start_time": "2022-05-02T11:16:57.312073",
     "status": "completed"
    },
    "tags": []
   },
   "outputs": [
    {
     "data": {
      "text/plain": [
       "\"Yes Gauri tell me tell me something about you   My name is Gauri shirmali  I am from Udaipur Rajasthan  I'm doing computer science engineering from Geetanjali Institute of technical studies  I secured 9 2 c GPA in 10, standard 73 4 Cgp ahh percentage in 12 standard  And currently an engineering my aggregate score is 77 percentage  computer sciences is omnipresent that is it is present in every field and hence I have invested these last 3 5 almost years and a developing my software skills My technical skills include programming in Python, Java, C, c++, databases I am also familiar with web development, Kubernetes, Docker, Ansible, et cetera  I've also participated in smart India hackathons of which ahh in one we also got to the finals  And currently I am one of the cultural heads of our students club, So I've I have also participated in several donation camps several donation camps as I am a  a member of the Rotary Club Udaipur, I consider myself as a very focused person, I’ve  and I always work towards my goals and in a very efficient manner  I am a team player and very optimistic in tough times And lastly I would like to say that why not start the journey of my success by the success of joining TCS Thank you so much  Okay ahh What are the five specific point about Tcs which makes Tcs different from the other IT MNCs?   Sure firstly sir ahh tcs is has a brand name, it is known it is a multinational company and it has a very good brand name and thus it would give me a good start for my career  Secondly, it has a work life balance  I have talked to many of my friends who are in Tcs and they say that Tcs gives a very good work life balance  So that is the second point  Third point is the colleagues there hardraw very futuristic in their skills  Fourthly, as Tcs is a multinational company, I would like to I would have the chance to even uhh go abroad and a meet a people of different nationalities  And lastly there as Tcs is has been in the industry for almost hundred and fifty years  Okay what are the ethical values Tcs have?   Okay okay Gauri nice talking to you , thankyou sir , and  I request kernel rathor sir to take next part of interview Right  Good afternoon   Good afternoon sir   Okay so how have you prepared for TCS interview now?   Sir I have an enhanced my technical skills I have been preparing for the core subjects, and I've been doing coding almost every day So I think that I prepared quite well For Tcs  Sir my future plans sir if I join TCS or otherwise   That's for you, what are the three important things ah that ah one should consider before joining any organization as a fresher?   So firstly the one should look if there is a lot to learn from the company, I mean, there should be a very steep like growing curve in the company  Secondly, they should be like the colleagues and everything should be very frank so that they help you in every way and thirdly  for me there should be a brand name so that there is a satisfaction that yes I have achieved a level and now I can go to the next level  So how does TCS fit into your requirement?   Sir tcs changes with technologies according to the needs of the people of the or so there is not a there is no fixed technology that they use they use according to the clients which is very well  which are the major clients of TCS? Can you name three or four of them?   No sir entrepreneurship No  but the highest studies many of the companies Tcs also provide like conc simultaneously highest studies So that may also be a very good option  Okay for example you have got you have got the offer from Tcs Or at the same time Meanwhile you're getting the better offer than Tcs from another organization which is not a tier one organization but tier two organization but the packages just develop what we are offering then what you will do?   defiantly I’ve told the tcs is the tier one and you've got the offer from tier two it means the startup or midsize company with the package for example, we are giving you four lakh they are giving you eight lakh in that case what do you do?    Sir I choose Tcs only because Tcs is like almost hundred and fifty years old company so it it has a very good job security  if you will not perform well in the tcs also you can get the job insecurity in tcs also  Sir but I will perform good and I would like from my end there will be no complaints from Tcs  Good afternoon sir   Good afternoon ah which domain you feel comfortable?   Ah sir core subject subjects programming C++ , DBMS Yes sir  Hua Gauri   Yes sir thoda thoda ah sir we can   Verbaly btao to bus when I can analyze that you are going in the right direction or not  Okay sir ah so ah firstly a we will the will like a this for example of how how many columns are there for example, I take disk of fifty the maximum we take a fifty and then now we take dice  so a variable in which we will take a random function with the help of random function, we can derive a number between one to six and for the first for the first move, if the numbers random number is six, then we can move like we can keep a counter of the player  And then now we can predefine the snakes for example, if at if we reach five then the the counter should like increased by 10 blocks  so the counter will increase by ten block That is the ladder and this way we can like pre define the next  For example, if the dice value for if if the dice value or the that block value in which the counter is right now is five so I have assigned five already that five is a ladder, so then it will increase and for example if 12 is a snake then I've already defined that at 12 you need to decrement the value by for example FIFO or whatever  If we are using C then and C++, Java there we doesn't have any dictionary   switch yes hnn but so we can use but it is too long like we will have to write the code many times in switch   cause switch for snake and switch for a ladder two separate switches we can use yes sir that we can   ahh so what do you mean by the encapsulation is Divyansh answer is correct  Explore more and more Tcs technical interview questions right? Ok sir They are basically mainly from C and C++  A from my side and rathor sir interview my remark for you definitely you are the good candidate that we have already observed many time ahh technical knowledge I have not checked out your head of department CAC will check it out but a you can easily correct the process\""
      ]
     },
     "execution_count": 10,
     "metadata": {},
     "output_type": "execute_result"
    }
   ],
   "source": [
    "summary_ner"
   ]
  },
  {
   "cell_type": "code",
   "execution_count": 11,
   "id": "6223d520",
   "metadata": {
    "execution": {
     "iopub.execute_input": "2022-05-02T11:16:57.453613Z",
     "iopub.status.busy": "2022-05-02T11:16:57.453242Z",
     "iopub.status.idle": "2022-05-02T11:16:57.460720Z",
     "shell.execute_reply": "2022-05-02T11:16:57.459727Z"
    },
    "papermill": {
     "duration": 0.055435,
     "end_time": "2022-05-02T11:16:57.463885",
     "exception": false,
     "start_time": "2022-05-02T11:16:57.408450",
     "status": "completed"
    },
    "tags": []
   },
   "outputs": [
    {
     "name": "stdout",
     "output_type": "stream",
     "text": [
      "\u001b[1;43mYes Gauri tell me tell me something about you \u001b[1;m.   . Okay ahh thank you for allowing me to introduce myself.\u001b[1;43m My name is Gauri shirmali\u001b[1;m.\u001b[1;43m I am from Udaipur Rajasthan\u001b[1;m.\u001b[1;43m I'm doing computer science engineering from Geetanjali Institute of technical studies\u001b[1;m.\u001b[1;43m I secured 9\u001b[1;m.\u001b[1;43m2 c GPA in 10, standard 73\u001b[1;m.\u001b[1;43m4 Cgp ahh percentage in 12 standard\u001b[1;m.\u001b[1;43m And currently an engineering my aggregate score is 77 percentage\u001b[1;m.\u001b[1;43m computer sciences is omnipresent that is it is present in every field and hence I have invested these last 3\u001b[1;m.\u001b[1;43m5 almost years and a developing my software skills My technical skills include programming in Python, Java, C, c++, databases I am also familiar with web development, Kubernetes, Docker, Ansible, et cetera\u001b[1;m. So these all are my technical skills. And I’ve  also used this skills to build several projects, which include user management project and attendance management project.\u001b[1;43m I've also participated in smart India hackathons of which ahh in one we also got to the finals\u001b[1;m. Ahh these are my technical skills, coming to my extracurricular activities I love to dance umm particularly semi classical dance. I also like to read write and paint have been the student editor of our colleges newsletter bits and bytes.\u001b[1;43m And currently I am one of the cultural heads of our students club, So I've I have also participated in several donation camps several donation camps as I am a  a member of the Rotary Club Udaipur, I consider myself as a very focused person, I’ve  and I always work towards my goals and in a very efficient manner\u001b[1;m.\u001b[1;43m I am a team player and very optimistic in tough times And lastly I would like to say that why not start the journey of my success by the success of joining TCS Thank you so much\u001b[1;m. .   .\u001b[1;43m Okay ahh What are the five specific point about Tcs which makes Tcs different from the other IT MNCs? \u001b[1;m.   .\u001b[1;43m Sure firstly sir ahh tcs is has a brand name, it is known it is a multinational company and it has a very good brand name and thus it would give me a good start for my career\u001b[1;m.\u001b[1;43m Secondly, it has a work life balance\u001b[1;m.\u001b[1;43m I have talked to many of my friends who are in Tcs and they say that Tcs gives a very good work life balance\u001b[1;m.\u001b[1;43m So that is the second point\u001b[1;m.\u001b[1;43m Third point is the colleagues there hardraw very futuristic in their skills\u001b[1;m. So there is a lot to learn from them.\u001b[1;43m Fourthly, as Tcs is a multinational company, I would like to I would have the chance to even uhh go abroad and a meet a people of different nationalities\u001b[1;m.\u001b[1;43m And lastly there as Tcs is has been in the industry for almost hundred and fifty years\u001b[1;m. So it gives me a sense of job security to some extent. .   .\u001b[1;43m Okay what are the ethical values Tcs have? \u001b[1;m.   . sir like I said there is a work life balance and it a it it promotes like gender equality ,there is no like discrimination on the basis of that. And it so it's very good ethics overall. .   .\u001b[1;43m Okay okay Gauri nice talking to you , thankyou sir , and  I request kernel rathor sir to take next part of interview Right\u001b[1;m. .   . Thankyou so much sir .   .\u001b[1;43m Good afternoon \u001b[1;m.   .\u001b[1;43m Good afternoon \u001b[1;msir .   . All prepare .   . Yes sir .   . Okay Tell us which other campus interviews Have you appeared for and what has been the results? .   . So I have interviewed for darnet, which is an depor only and I got selected for it. I also interviewed for gateway industries. I was not selected in the interview I got to the interview part but was not selected So that's it. I've only given these interviews. .   . Okay Have you analyzed Why you didn't get selected for gateway? .   . Sir in gateway I might have not answered the technical questions very well as compared to the other candidates. .   .\u001b[1;43m Okay so how have you prepared for TCS interview now? \u001b[1;m.   .\u001b[1;43m Sir I have an enhanced my technical skills I have been preparing for the core subjects, and I've been doing coding almost every day So I think that I prepared quite well For Tcs\u001b[1;m. .   . Okay ahhh umm  Gauri tell me what are your future plans? .   .\u001b[1;43m Sir my future plans sir if I join TCS or otherwise \u001b[1;m.   . What are your future plans ? .   . Sir I want to join a software company and a work for it. And I want to a learn as much ah like as much languages and as much skills as I can and I also want to achieve great success so that I'm satisfied with what I've learned .   . Okay ah what do you think are the reasons for youngsters switching over jobs? .   . Sir maybe it is job satisfaction because they enter a company without a a seeing the background of the company and then they later find out that the company was not suitable for them. .   . Okay.\u001b[1;43m That's for you, what are the three important things ah that ah one should consider before joining any organization as a fresher? \u001b[1;m.   .\u001b[1;43m So firstly the one should look if there is a lot to learn from the company, I mean, there should be a very steep like growing curve in the company\u001b[1;m.\u001b[1;43m Secondly, they should be like the colleagues and everything should be very frank so that they help you in every way and thirdly  for me there should be a brand name so that there is a satisfaction that yes I have achieved a level and now I can go to the next level\u001b[1;m. .   . Okay technically what gives you job satisfaction? .   . Sir technically the latest I want to go with latest technical skills, like not obsolete technologies, but the latest technologies. .   .\u001b[1;43m So how does TCS fit into your requirement? \u001b[1;m.   .\u001b[1;43m Sir tcs changes with technologies according to the needs of the people of the or so there is not a there is no fixed technology that they use they use according to the clients which is very well\u001b[1;m. .   .\u001b[1;43m which are the major clients of TCS? Can you name three or four of them? \u001b[1;m.   . I'm sorry sir but I'm not aware of the clients. .   . Okay sure anything that you want to ask? .   . Sir will I be able to like fit in the company? I mean what do you think? .   . Will you be able to fit into the company? .   . Yes sir .   . Yeah, as per your own analysis, you said you're a good team player and what requirements you said for a good job in case you have those qualities I'm sure you will be able to fit into. .   . Okay, sir, thank you any more suggestions for me? .   . No nothing more adventure will finally give his remarks. .   . Thank you so much sir. .   . All the best right .   . Gauri .   . Yes sir .   . What is your basically the aim you want to go into software companies or anything more than that? .   . No sir I want to go into software companies that is aim .   . okay. You don't want to go for any higher studies or entrepreneurship like. .   .\u001b[1;43m No sir entrepreneurship No  but the highest studies many of the companies Tcs also provide like conc simultaneously highest studies So that may also be a very good option\u001b[1;m. .   .\u001b[1;43m Okay for example you have got you have got the offer from Tcs Or at the same time Meanwhile you're getting the better offer than Tcs from another organization which is not a tier one organization but tier two organization but the packages just develop what we are offering then what you will do? \u001b[1;m.   . a sir I compare both the companies in terms of the .   .\u001b[1;43m defiantly I’ve told the tcs is the tier one and you've got the offer from tier two it means the startup or midsize company with the package for example, we are giving you four lakh they are giving you eight lakh in that case what do you do? \u001b[1;m.   .\u001b[1;43m  Sir I choose Tcs only because Tcs is like almost hundred and fifty years old company so it it has a very good job security\u001b[1;m. And as I cannot really trust a startup because they are new in the industry, and that's why there is there might be some trust issues so i .   . At least salary does not matter for you ? .   . Sir job security is more important than a salary .   .\u001b[1;43m if you will not perform well in the tcs also you can get the job insecurity in tcs also\u001b[1;m. .   .\u001b[1;43m Sir but I will perform good and I would like from my end there will be no complaints from Tcs\u001b[1;m. .   . Okay yeah .   . Gauri .   .\u001b[1;43m Good afternoon \u001b[1;msir .   .\u001b[1;43m Good afternoon \u001b[1;mah which domain you feel comfortable? .   .\u001b[1;43m Ah sir core subject subjects programming C++ , DBMS Yes sir\u001b[1;m. .   . So, give me a concept to implement snake and ladder. .   . implement Snakes and Ladders using any programming language? .   . I want to know only concept not the implementation Okay I'm giving you the one minute .   . Hmm  sir can I write something .   .  Yes yes but I need only logic right not the coding a code part. .   . Ok sir .   .\u001b[1;43m Hua Gauri \u001b[1;m.   .\u001b[1;43m Yes sir thoda thoda ah sir we can \u001b[1;m.   .\u001b[1;43m Verbaly btao to bus when I can analyze that you are going in the right direction or not\u001b[1;m. .   .\u001b[1;43m Okay sir ah so ah firstly a we will the will like a this for example of how how many columns are there for example, I take disk of fifty the maximum we take a fifty and then now we take dice\u001b[1;m.\u001b[1;43m so a variable in which we will take a random function with the help of random function, we can derive a number between one to six and for the first for the first move, if the numbers random number is six, then we can move like we can keep a counter of the player\u001b[1;m. so we can increase the counter with the numbers that comes in the dice.\u001b[1;43m And then now we can predefine the snakes for example, if at if we reach five then the the counter should like increased by 10 blocks\u001b[1;m.\u001b[1;43m so the counter will increase by ten block That is the ladder and this way we can like pre define the next\u001b[1;m. .   . My next is the how you will how you will determine whether to you have to increment its dice value means you you own to use it's increasing the counter value in form of ladder yes sir or you have to decrement the counter value in form of snake. so how you will determine it. .   . Sir with the help of functions.\u001b[1;43m For example, if the dice value for if if the dice value or the that block value in which the counter is right now is five so I have assigned five already that five is a ladder, so then it will increase and for example if 12 is a snake then I've already defined that at 12 you need to decrement the value by for example FIFO or whatever\u001b[1;m. So I will predefined .   . where you will predefined these values? .   . So I can use a dictionary to like if I'm doing in Python then I can use it dictonary. .   .\u001b[1;43m If we are using C then and C++, Java there we doesn't have any dictionary \u001b[1;m.   . Then sir we can ah we can use array of arrays and then like make dictionary with the help of arrays .   . Okay yes can we switch or not there? .   .\u001b[1;43m switch yes hnn but so we can use but it is too long like we will have to write the code many times in switch \u001b[1;m.   . why many times we can define a in switch global or anywhere then we can use it .   .\u001b[1;43m cause switch for snake and switch for a ladder two separate switches we can use yes sir that we can \u001b[1;m.   .\u001b[1;43m ahh so what do you mean by the encapsulation is Divyansh answer is correct\u001b[1;m. .   . Sir partially it is correct it is used for data hiding but more data security. So aa in our class it is implemented using access modifiers like public protected private and there is a default access specifier as well. So ahh using these we can a define the scope of the variables or the functions like if it is public then it can be used all through and if it is protected then only the subclasses can use it and if private then only the current class can use it. .   . What do you mean by storage classes ? .   . A storage classes sir im no able to recall ive a .   . Okay gauri all the best .   . Thankyou so much .   .\u001b[1;43m Explore more and more Tcs technical interview questions right? Ok sir They are basically mainly from C and C++\u001b[1;m. .   . Okay sir ill keep that in mind thankyou so much sir all the best thank you .   .\u001b[1;43m A from my side and rathor sir interview my remark for you definitely you are the good candidate that we have already observed many time ahh technical knowledge I have not checked out your head of department CAC will check it out but a you can easily correct the process\u001b[1;m. .   . Okay thank you so much sir .   . Or a when you are clear about your thought process then at least it should be justified when you are giving the interviews Yes sir sure it is very important ok sir if they feel that you want to come but you can not come then then there is a chances they can drop you. Either you are a good candidate or the best for example Google want to hire somebody or they find the candidate which is having the capabilities to get a caror package in a anom. But they have the doubt that no doubt is the best but they have the doubt that either he'll join or not. then might be they can drop so yes that kind of condition in the interview at least shoud not be so case. .   . Okay I'll keep that in mind sir thank you .   . Otherwise all set all right ok .   . Thank you .   . Thank you sir .   . \n"
     ]
    }
   ],
   "source": [
    "print(generate_final1(text, summary_ner_list))"
   ]
  },
  {
   "cell_type": "code",
   "execution_count": null,
   "id": "fe856733",
   "metadata": {
    "papermill": {
     "duration": 0.045478,
     "end_time": "2022-05-02T11:16:57.555370",
     "exception": false,
     "start_time": "2022-05-02T11:16:57.509892",
     "status": "completed"
    },
    "tags": []
   },
   "outputs": [],
   "source": []
  },
  {
   "cell_type": "markdown",
   "id": "21ec4dde",
   "metadata": {
    "papermill": {
     "duration": 0.044448,
     "end_time": "2022-05-02T11:16:57.644313",
     "exception": false,
     "start_time": "2022-05-02T11:16:57.599865",
     "status": "completed"
    },
    "tags": []
   },
   "source": [
    "## METHOD 2 -- \n",
    "* #### Using Spacy with word frequency\n",
    "* #### Using pretrained Bert-Large Transformer"
   ]
  },
  {
   "cell_type": "code",
   "execution_count": 12,
   "id": "6df5baa6",
   "metadata": {
    "execution": {
     "iopub.execute_input": "2022-05-02T11:16:57.734751Z",
     "iopub.status.busy": "2022-05-02T11:16:57.734413Z",
     "iopub.status.idle": "2022-05-02T11:16:57.744733Z",
     "shell.execute_reply": "2022-05-02T11:16:57.744094Z"
    },
    "papermill": {
     "duration": 0.058757,
     "end_time": "2022-05-02T11:16:57.746846",
     "exception": false,
     "start_time": "2022-05-02T11:16:57.688089",
     "status": "completed"
    },
    "tags": []
   },
   "outputs": [],
   "source": [
    "def summarize(text, per):\n",
    "    nlp = spacy.load('en_core_web_sm')\n",
    "    doc= nlp(text)\n",
    "    tokens=[token.text for token in doc]\n",
    "    word_frequencies={}\n",
    "    \n",
    "    for word in doc:\n",
    "        wo = word.text\n",
    "        wo_lower = wo.lower()\n",
    "        if wo_lower not in list(STOP_WORDS):\n",
    "            if wo_lower not in punctuation:\n",
    "                if word.text not in word_frequencies.keys():\n",
    "                    word_frequencies[wo] = 1\n",
    "                else:\n",
    "                    word_frequencies[wo] += 1\n",
    "                    \n",
    "    max_frequency=max(word_frequencies.values())\n",
    "    for word in word_frequencies.keys():\n",
    "        word_frequencies[word]=word_frequencies[word]/max_frequency\n",
    "        \n",
    "    sentence_tokens= [sent for sent in doc.sents]\n",
    "    sentence_scores = {}\n",
    "    \n",
    "    for sent in sentence_tokens:\n",
    "        for word in sent:\n",
    "            wo = word.text\n",
    "            wo_lower = wo.lower()\n",
    "            if wo_lower in word_frequencies.keys():\n",
    "                if sent not in sentence_scores.keys():                            \n",
    "                    sentence_scores[sent]=word_frequencies[wo_lower]\n",
    "                else:\n",
    "                    sentence_scores[sent]+=word_frequencies[wo_lower]\n",
    "                    \n",
    "    select_length=int(len(sentence_tokens)*per)\n",
    "    summary=nlargest(select_length, sentence_scores,key=sentence_scores.get)\n",
    "    final_summary=[word.text for word in summary]\n",
    "    summary=' '.join(final_summary)\n",
    "    return summary"
   ]
  },
  {
   "cell_type": "code",
   "execution_count": 13,
   "id": "aa8ae32e",
   "metadata": {
    "execution": {
     "iopub.execute_input": "2022-05-02T11:16:57.840316Z",
     "iopub.status.busy": "2022-05-02T11:16:57.839421Z",
     "iopub.status.idle": "2022-05-02T11:16:59.017847Z",
     "shell.execute_reply": "2022-05-02T11:16:59.016803Z"
    },
    "papermill": {
     "duration": 1.227277,
     "end_time": "2022-05-02T11:16:59.020184",
     "exception": false,
     "start_time": "2022-05-02T11:16:57.792907",
     "status": "completed"
    },
    "tags": []
   },
   "outputs": [
    {
     "data": {
      "text/plain": [
       "\"sir like I said there is a work life balance and it a it it promotes like gender equality ,there is no like discrimination on the basis of that.  Sir I choose Tcs only because Tcs is like almost hundred and fifty years old company so it it has a very good job security. Sir technically the latest I want to go with latest technical skills, like not obsolete technologies, but the latest technologies. . Gauri nice talking to you , thankyou sir , and  I request kernel rathor sir to take next part of interview Right. . Otherwise all set all right ok .   . For example, if the dice value for if if the dice value or the that block value in which the counter is right now is five so I have assigned five already that five is a ladder, so then it will increase and for example if 12 is a snake then I've already defined that at 12 you need to decrement the value by for example FIFO or whatever. Yes sir sure it is very important ok sir if they feel that you want to come Sure firstly sir ahh tcs is has a brand name, it is known it is a multinational company and it has a very good brand name and thus it would give me a good start for my career.   .   .   .   .   .   .   .   .   .   .   .   .   .   .   .   .   .   .   .   .   .   .   .   .   .   .   .   .   .   .   .   .   .   .   .   .   .   .   .   .   .   .   .   .   .   .   .   .   .   .   .   .   .   .   .   .   .   .   .   .   .   .   .   .   .   .   .   .   .   .   .   .   .   .   .   .   .   .   .   .   .   .   .   .   .   .   .   .   .   .   .   .   .   . Yes sir thoda thoda ah sir we can . A from my side and rathor sir interview my remark for you definitely you are the good candidate that we have already observed many time ahh technical knowledge I have not checked out your head of department CAC will check it out but a you can easily correct the process. . Then sir we can ah we can use array of arrays and then like make dictionary with the help of arrays .\""
      ]
     },
     "execution_count": 13,
     "metadata": {},
     "output_type": "execute_result"
    }
   ],
   "source": [
    "summary_spacy = summarize(text, 0.4)\n",
    "summary_spacy"
   ]
  },
  {
   "cell_type": "code",
   "execution_count": 14,
   "id": "ce070d5e",
   "metadata": {
    "execution": {
     "iopub.execute_input": "2022-05-02T11:16:59.111716Z",
     "iopub.status.busy": "2022-05-02T11:16:59.111395Z",
     "iopub.status.idle": "2022-05-02T11:16:59.117793Z",
     "shell.execute_reply": "2022-05-02T11:16:59.116443Z"
    },
    "papermill": {
     "duration": 0.055881,
     "end_time": "2022-05-02T11:16:59.120114",
     "exception": false,
     "start_time": "2022-05-02T11:16:59.064233",
     "status": "completed"
    },
    "tags": []
   },
   "outputs": [
    {
     "name": "stdout",
     "output_type": "stream",
     "text": [
      "Yes Gauri tell me tell me something about you .   . Okay ahh thank you for allowing me to introduce myself. My name is Gauri shirmali. I am from Udaipur Rajasthan. I'm doing computer science engineering from Geetanjali Institute of technical studies. I secured 9.2 c GPA in 10, standard 73.4 Cgp ahh percentage in 12 standard. And currently an engineering my aggregate score is 77 percentage. computer sciences is omnipresent that is it is present in every field and hence I have invested these last 3.5 almost years and a developing my software skills My technical skills include programming in Python, Java, C, c++, databases I am also familiar with web development, Kubernetes, Docker, Ansible, et cetera. So these all are my technical skills. And I’ve  also used this skills to build several projects, which include user management project and attendance management project. I've also participated in smart India hackathons of which ahh in one we also got to the finals. Ahh these are my technical skills, coming to my extracurricular activities I love to dance umm particularly semi classical dance. I also like to read write and paint have been the student editor of our colleges newsletter bits and bytes. And currently I am one of the cultural heads of our students club, So I've I have also participated in several donation camps several donation camps as I am a  a member of the Rotary Club Udaipur, I consider myself as a very focused person, I’ve  and I always work towards my goals and in a very efficient manner. I am a team player and very optimistic in tough times And lastly I would like to say that why not start the journey of my success by the success of joining TCS Thank you so much. .   . Okay ahh What are the five specific point about Tcs which makes Tcs different from the other IT MNCs? .   . Sure firstly sir ahh tcs is has a brand name, it is known it is a multinational company and it has a very good brand name and thus it would give me a good start for my career. Secondly, it has a work life balance. I have talked to many of my friends who are in Tcs and they say that Tcs gives a very good work life balance. So that is the second point. Third point is the colleagues there hardraw very futuristic in their skills. So there is a lot to learn from them. Fourthly, as Tcs is a multinational company, I would like to I would have the chance to even uhh go abroad and a meet a people of different nationalities. And lastly there as Tcs is has been in the industry for almost hundred and fifty years. So it gives me a sense of job security to some extent. .   . Okay what are the ethical values Tcs have? .   . \u001b[1;43msir like I said there is a work life balance and it a it it promotes like gender equality ,there is no like discrimination on the basis of that\u001b[1;m. And it so it's very good ethics overall. .   . Okay okay\u001b[1;43m Gauri nice talking to you , thankyou sir , and  I request kernel rathor sir to take next part of interview Right\u001b[1;m. .   . Thankyou so much sir .   . Good afternoon .   . Good afternoon sir .   . All prepare .   . Yes sir .   . Okay Tell us which other campus interviews Have you appeared for and what has been the results? .   . So I have interviewed for darnet, which is an depor only and I got selected for it. I also interviewed for gateway industries. I was not selected in the interview I got to the interview part but was not selected So that's it. I've only given these interviews. .   . Okay Have you analyzed Why you didn't get selected for gateway? .   . Sir in gateway I might have not answered the technical questions very well as compared to the other candidates. .   . Okay so how have you prepared for TCS interview now? .   . Sir I have an enhanced my technical skills I have been preparing for the core subjects, and I've been doing coding almost every day So I think that I prepared quite well For Tcs. .   . Okay ahhh umm  Gauri tell me what are your future plans? .   . Sir my future plans sir if I join TCS or otherwise .   . What are your future plans ? .   . Sir I want to join a software company and a work for it. And I want to a learn as much ah like as much languages and as much skills as I can and I also want to achieve great success so that I'm satisfied with what I've learned .   . Okay ah what do you think are the reasons for youngsters switching over jobs? .   . Sir maybe it is job satisfaction because they enter a company without a a seeing the background of the company and then they later find out that the company was not suitable for them. .   . Okay. That's for you, what are the three important things ah that ah one should consider before joining any organization as a fresher? .   . So firstly the one should look if there is a lot to learn from the company, I mean, there should be a very steep like growing curve in the company. Secondly, they should be like the colleagues and everything should be very frank so that they help you in every way and thirdly  for me there should be a brand name so that there is a satisfaction that yes I have achieved a level and now I can go to the next level. .   . Okay technically what gives you job satisfaction? .   .\u001b[1;43m Sir technically the latest I want to go with latest technical skills, like not obsolete technologies, but the latest technologies\u001b[1;m. .   . So how does TCS fit into your requirement? .   . Sir tcs changes with technologies according to the needs of the people of the or so there is not a there is no fixed technology that they use they use according to the clients which is very well. .   . which are the major clients of TCS? Can you name three or four of them? .   . I'm sorry sir but I'm not aware of the clients. .   . Okay sure anything that you want to ask? .   . Sir will I be able to like fit in the company? I mean what do you think? .   . Will you be able to fit into the company? .   . Yes sir .   . Yeah, as per your own analysis, you said you're a good team player and what requirements you said for a good job in case you have those qualities I'm sure you will be able to fit into. .   . Okay, sir, thank you any more suggestions for me? .   . No nothing more adventure will finally give his remarks. .   . Thank you so much sir. .   . All the best right .   . Gauri .   . Yes sir .   . What is your basically the aim you want to go into software companies or anything more than that? .   . No sir I want to go into software companies that is aim .   . okay. You don't want to go for any higher studies or entrepreneurship like. .   . No sir entrepreneurship No  but the highest studies many of the companies Tcs also provide like conc simultaneously highest studies So that may also be a very good option. .   . Okay for example you have got you have got the offer from Tcs Or at the same time Meanwhile you're getting the better offer than Tcs from another organization which is not a tier one organization but tier two organization but the packages just develop what we are offering then what you will do? .   . a sir I compare both the companies in terms of the .   . defiantly I’ve told the tcs is the tier one and you've got the offer from tier two it means the startup or midsize company with the package for example, we are giving you four lakh they are giving you eight lakh in that case what do you do? .   .\u001b[1;43m  Sir I choose Tcs only because Tcs is like almost hundred and fifty years old company so it it has a very good job security\u001b[1;m. And as I cannot really trust a startup because they are new in the industry, and that's why there is there might be some trust issues so i .   . At least salary does not matter for you ? .   . Sir job security is more important than a salary .   . if you will not perform well in the tcs also you can get the job insecurity in tcs also. .   . Sir but I will perform good and I would like from my end there will be no complaints from Tcs. .   . Okay yeah .   . Gauri .   . Good afternoon sir .   . Good afternoon ah which domain you feel comfortable? .   . Ah sir core subject subjects programming C++ , DBMS Yes sir. .   . So, give me a concept to implement snake and ladder. .   . implement Snakes and Ladders using any programming language? .   . I want to know only concept not the implementation Okay I'm giving you the one minute .   . Hmm  sir can I write something .   .  Yes yes but I need only logic right not the coding a code part. .   . Ok sir .   . Hua Gauri .   .\u001b[1;43m Yes sir thoda thoda ah sir we can \u001b[1;m.   . Verbaly btao to bus when I can analyze that you are going in the right direction or not. .   . Okay sir ah so ah firstly a we will the will like a this for example of how how many columns are there for example, I take disk of fifty the maximum we take a fifty and then now we take dice. so a variable in which we will take a random function with the help of random function, we can derive a number between one to six and for the first for the first move, if the numbers random number is six, then we can move like we can keep a counter of the player. so we can increase the counter with the numbers that comes in the dice. And then now we can predefine the snakes for example, if at if we reach five then the the counter should like increased by 10 blocks. so the counter will increase by ten block That is the ladder and this way we can like pre define the next. .   . My next is the how you will how you will determine whether to you have to increment its dice value means you you own to use it's increasing the counter value in form of ladder yes sir or you have to decrement the counter value in form of snake. so how you will determine it. .   . Sir with the help of functions.\u001b[1;43m For example, if the dice value for if if the dice value or the that block value in which the counter is right now is five so I have assigned five already that five is a ladder, so then it will increase and for example if 12 is a snake then I've already defined that at 12 you need to decrement the value by for example FIFO or whatever\u001b[1;m. So I will predefined .   . where you will predefined these values? .   . So I can use a dictionary to like if I'm doing in Python then I can use it dictonary. .   . If we are using C then and C++, Java there we doesn't have any dictionary .   .\u001b[1;43m Then sir we can ah we can use array of arrays and then like make dictionary with the help of arrays \u001b[1;m.   . Okay yes can we switch or not there? .   . switch yes hnn but so we can use but it is too long like we will have to write the code many times in switch .   . why many times we can define a in switch global or anywhere then we can use it .   . cause switch for snake and switch for a ladder two separate switches we can use yes sir that we can .   . ahh so what do you mean by the encapsulation is Divyansh answer is correct. .   . Sir partially it is correct it is used for data hiding but more data security. So aa in our class it is implemented using access modifiers like public protected private and there is a default access specifier as well. So ahh using these we can a define the scope of the variables or the functions like if it is public then it can be used all through and if it is protected then only the subclasses can use it and if private then only the current class can use it. .   . What do you mean by storage classes ? .   . A storage classes sir im no able to recall ive a .   . Okay gauri all the best .   . Thankyou so much .   . Explore more and more Tcs technical interview questions right? Ok sir They are basically mainly from C and C++. .   . Okay sir ill keep that in mind thankyou so much sir all the best thank you .   .\u001b[1;43m A from my side and rathor sir interview my remark for you definitely you are the good candidate that we have already observed many time ahh technical knowledge I have not checked out your head of department CAC will check it out but a you can easily correct the process\u001b[1;m. .   . Okay thank you so much sir .   . Or a when you are clear about your thought process then at least it should be justified when you are giving the interviews Yes sir sure it is very important ok sir if they feel that you want to come but you can not come then then there is a chances they can drop you. Either you are a good candidate or the best for example Google want to hire somebody or they find the candidate which is having the capabilities to get a caror package in a anom. But they have the doubt that no doubt is the best but they have the doubt that either he'll join or not. then might be they can drop so yes that kind of condition in the interview at least shoud not be so case. .   . Okay I'll keep that in mind sir thank you .   .\u001b[1;43m Otherwise all set all right ok \u001b[1;m.   . Thank you .   . Thank you sir .   . \n"
     ]
    }
   ],
   "source": [
    "print(generate_final2(text, summary_spacy))"
   ]
  },
  {
   "cell_type": "code",
   "execution_count": 15,
   "id": "9c42622a",
   "metadata": {
    "execution": {
     "iopub.execute_input": "2022-05-02T11:16:59.212937Z",
     "iopub.status.busy": "2022-05-02T11:16:59.212586Z",
     "iopub.status.idle": "2022-05-02T11:18:25.953600Z",
     "shell.execute_reply": "2022-05-02T11:18:25.952160Z"
    },
    "papermill": {
     "duration": 86.791907,
     "end_time": "2022-05-02T11:18:25.957874",
     "exception": false,
     "start_time": "2022-05-02T11:16:59.165967",
     "status": "completed"
    },
    "tags": []
   },
   "outputs": [
    {
     "data": {
      "application/vnd.jupyter.widget-view+json": {
       "model_id": "f2e8a02482c74a10a6a13d2f5ee89357",
       "version_major": 2,
       "version_minor": 0
      },
      "text/plain": [
       "Downloading:   0%|          | 0.00/571 [00:00<?, ?B/s]"
      ]
     },
     "metadata": {},
     "output_type": "display_data"
    },
    {
     "data": {
      "application/vnd.jupyter.widget-view+json": {
       "model_id": "4bc48be601244c468204be95fecbd3ec",
       "version_major": 2,
       "version_minor": 0
      },
      "text/plain": [
       "Downloading:   0%|          | 0.00/1.25G [00:00<?, ?B/s]"
      ]
     },
     "metadata": {},
     "output_type": "display_data"
    },
    {
     "name": "stderr",
     "output_type": "stream",
     "text": [
      "Some weights of the model checkpoint at bert-large-uncased were not used when initializing BertModel: ['cls.seq_relationship.bias', 'cls.seq_relationship.weight', 'cls.predictions.transform.LayerNorm.bias', 'cls.predictions.transform.LayerNorm.weight', 'cls.predictions.bias', 'cls.predictions.transform.dense.bias', 'cls.predictions.decoder.weight', 'cls.predictions.transform.dense.weight']\n",
      "- This IS expected if you are initializing BertModel from the checkpoint of a model trained on another task or with another architecture (e.g. initializing a BertForSequenceClassification model from a BertForPreTraining model).\n",
      "- This IS NOT expected if you are initializing BertModel from the checkpoint of a model that you expect to be exactly identical (initializing a BertForSequenceClassification model from a BertForSequenceClassification model).\n"
     ]
    },
    {
     "data": {
      "application/vnd.jupyter.widget-view+json": {
       "model_id": "85ef72fd644e4072b88a61b6478f5c9e",
       "version_major": 2,
       "version_minor": 0
      },
      "text/plain": [
       "Downloading:   0%|          | 0.00/226k [00:00<?, ?B/s]"
      ]
     },
     "metadata": {},
     "output_type": "display_data"
    },
    {
     "data": {
      "application/vnd.jupyter.widget-view+json": {
       "model_id": "53bbcf7e73df4fa9a699c6239b5b14ec",
       "version_major": 2,
       "version_minor": 0
      },
      "text/plain": [
       "Downloading:   0%|          | 0.00/28.0 [00:00<?, ?B/s]"
      ]
     },
     "metadata": {},
     "output_type": "display_data"
    }
   ],
   "source": [
    "model = Summarizer()\n",
    "summary_bert = model(text, ratio=0.2)"
   ]
  },
  {
   "cell_type": "code",
   "execution_count": 16,
   "id": "6395bbe0",
   "metadata": {
    "execution": {
     "iopub.execute_input": "2022-05-02T11:18:26.101828Z",
     "iopub.status.busy": "2022-05-02T11:18:26.101468Z",
     "iopub.status.idle": "2022-05-02T11:18:26.108526Z",
     "shell.execute_reply": "2022-05-02T11:18:26.107722Z"
    },
    "papermill": {
     "duration": 0.058745,
     "end_time": "2022-05-02T11:18:26.110895",
     "exception": false,
     "start_time": "2022-05-02T11:18:26.052150",
     "status": "completed"
    },
    "tags": []
   },
   "outputs": [
    {
     "name": "stdout",
     "output_type": "stream",
     "text": [
      "\u001b[1;43mYes Gauri tell me tell me something about you \u001b[1;m.   .\u001b[1;43m Okay ahh thank you for allowing me to introduce myself\u001b[1;m. My name is Gauri shirmali. I am from Udaipur Rajasthan. I'm doing computer science engineering from Geetanjali Institute of technical studies.\u001b[1;43m I secured 9\u001b[1;m.\u001b[1;43m2 c GPA in 10, standard 73\u001b[1;m.\u001b[1;43m4 Cgp ahh percentage in 12 standard\u001b[1;m.\u001b[1;43m And currently an engineering my aggregate score is 77 percentage\u001b[1;m.\u001b[1;43m computer sciences is omnipresent that is it is present in every field and hence I have invested these last 3\u001b[1;m.\u001b[1;43m5 almost years and a developing my software skills My technical skills include programming in Python, Java, C, c++, databases I am also familiar with web development, Kubernetes, Docker, Ansible, et cetera\u001b[1;m. So these all are my technical skills. And I’ve  also used this skills to build several projects, which include user management project and attendance management project. I've also participated in smart India hackathons of which ahh in one we also got to the finals. Ahh these are my technical skills, coming to my extracurricular activities I love to dance umm particularly semi classical dance. I also like to read write and paint have been the student editor of our colleges newsletter bits and bytes. And currently I am one of the cultural heads of our students club, So I've I have also participated in several donation camps several donation camps as I am a  a member of the Rotary Club Udaipur, I consider myself as a very focused person, I’ve  and I always work towards my goals and in a very efficient manner. I am a team player and very optimistic in tough times And lastly I would like to say that why not start the journey of my success by the success of joining TCS Thank you so much. .   . Okay ahh What are the five specific point about Tcs which makes Tcs different from the other IT MNCs? .   . Sure firstly sir ahh tcs is has a brand name, it is known it is a multinational company and it has a very good brand name and thus it would give me a good start for my career. Secondly, it has a work life balance. I have talked to many of my friends who are in Tcs and they say that Tcs gives a very good work life balance. So that is the second point.\u001b[1;43m Third point is the colleagues there hardraw very futuristic in their skills\u001b[1;m. So there is a lot to learn from them. Fourthly, as Tcs is a multinational company, I would like to I would have the chance to even uhh go abroad and a meet a people of different nationalities.\u001b[1;43m And lastly there as Tcs is has been in the industry for almost hundred and fifty years\u001b[1;m. So it gives me a sense of job security to some extent. .   . Okay what are the ethical values Tcs have? .   . sir like I said there is a work life balance and it a it it promotes like gender equality ,there is no like discrimination on the basis of that.\u001b[1;43m And it so it's very good ethics overall\u001b[1;m. .   . Okay okay Gauri nice talking to you , thankyou sir , and  I request kernel rathor sir to take next part of interview Right. .   . Thankyou so much sir .   . Good afternoon .   . Good afternoon sir .   . All prepare .   . Yes sir .   . Okay Tell us which other campus interviews Have you appeared for and what has been the results? .   . So I have interviewed for darnet, which is an depor only and I got selected for it. I also interviewed for gateway industries. I was not selected in the interview I got to the interview part but was not selected So that's it. I've only given these interviews. .   . Okay Have you analyzed Why you didn't get selected for gateway? .   . Sir in gateway I might have not answered the technical questions very well as compared to the other candidates. .   . Okay so how have you prepared for TCS interview now? .   .\u001b[1;43m Sir I have an enhanced my technical skills I have been preparing for the core subjects, and I've been doing coding almost every day So I think that I prepared quite well For Tcs\u001b[1;m. .   . Okay ahhh umm  Gauri tell me what are your future plans? .   . Sir my future plans sir if I join TCS or otherwise .   . What are your future plans ? .   . Sir I want to join a software company and a work for it. And I want to a learn as much ah like as much languages and as much skills as I can and I also want to achieve great success so that I'm satisfied with what I've learned .   .\u001b[1;43m Okay ah what do you think are the reasons for youngsters switching over jobs? \u001b[1;m.   . Sir maybe it is job satisfaction because they enter a company without a a seeing the background of the company and then they later find out that the company was not suitable for them. .   . Okay. That's for you, what are the three important things ah that ah one should consider before joining any organization as a fresher? .   . So firstly the one should look if there is a lot to learn from the company, I mean, there should be a very steep like growing curve in the company. Secondly, they should be like the colleagues and everything should be very frank so that they help you in every way and thirdly  for me there should be a brand name so that there is a satisfaction that yes I have achieved a level and now I can go to the next level. .   . Okay technically what gives you job satisfaction? .   . Sir technically the latest I want to go with latest technical skills, like not obsolete technologies, but the latest technologies. .   . So how does TCS fit into your requirement? .   . Sir tcs changes with technologies according to the needs of the people of the or so there is not a there is no fixed technology that they use they use according to the clients which is very well. .   . which are the major clients of TCS? Can you name three or four of them? .   . I'm sorry sir but I'm not aware of the clients. .   . Okay sure anything that you want to ask? .   . Sir will I be able to like fit in the company? I mean what do you think? .   . Will you be able to fit into the company? .   . Yes sir .   . Yeah, as per your own analysis, you said you're a good team player and what requirements you said for a good job in case you have those qualities I'm sure you will be able to fit into. .   . Okay, sir, thank you any more suggestions for me? .   . No nothing more adventure will finally give his remarks. .   . Thank you so much sir. .   . All the best right .   . Gauri .   . Yes sir .   . What is your basically the aim you want to go into software companies or anything more than that? .   . No sir I want to go into software companies that is aim .   . okay. You don't want to go for any higher studies or entrepreneurship like. .   . No sir entrepreneurship No  but the highest studies many of the companies Tcs also provide like conc simultaneously highest studies So that may also be a very good option. .   .\u001b[1;43m Okay for example you have got you have got the offer from Tcs Or at the same time Meanwhile you're getting the better offer than Tcs from another organization which is not a tier one organization but tier two organization but the packages just develop what we are offering then what you will do? \u001b[1;m.   . a sir I compare both the companies in terms of the .   . defiantly I’ve told the tcs is the tier one and you've got the offer from tier two it means the startup or midsize company with the package for example, we are giving you four lakh they are giving you eight lakh in that case what do you do? .   .  Sir I choose Tcs only because Tcs is like almost hundred and fifty years old company so it it has a very good job security. And as I cannot really trust a startup because they are new in the industry, and that's why there is there might be some trust issues so i .   .\u001b[1;43m At least salary does not matter for you ? \u001b[1;m.   . Sir job security is more important than a salary .   . if you will not perform well in the tcs also you can get the job insecurity in tcs also. .   .\u001b[1;43m Sir but I will perform good and I would like from my end there will be no complaints from Tcs\u001b[1;m. .   . Okay yeah .   . Gauri .   . Good afternoon sir .   . Good afternoon ah which domain you feel comfortable? .   .\u001b[1;43m Ah sir core subject subjects programming C++ , DBMS Yes sir\u001b[1;m. .   . So, give me a concept to implement snake and ladder. .   .\u001b[1;43m implement Snakes and Ladders using any programming language? \u001b[1;m.   . I want to know only concept not the implementation Okay I'm giving you the one minute .   . Hmm  sir can I write something .   .  Yes yes but I need only logic right not the coding a code part. .   . Ok sir .   . Hua Gauri .   . Yes sir thoda thoda ah sir we can .   . Verbaly btao to bus when I can analyze that you are going in the right direction or not. .   . Okay sir ah so ah firstly a we will the will like a this for example of how how many columns are there for example, I take disk of fifty the maximum we take a fifty and then now we take dice. so a variable in which we will take a random function with the help of random function, we can derive a number between one to six and for the first for the first move, if the numbers random number is six, then we can move like we can keep a counter of the player. so we can increase the counter with the numbers that comes in the dice. And then now we can predefine the snakes for example, if at if we reach five then the the counter should like increased by 10 blocks. so the counter will increase by ten block That is the ladder and this way we can like pre define the next. .   . My next is the how you will how you will determine whether to you have to increment its dice value means you you own to use it's increasing the counter value in form of ladder yes sir or you have to decrement the counter value in form of snake. so how you will determine it. .   . Sir with the help of functions.\u001b[1;43m For example, if the dice value for if if the dice value or the that block value in which the counter is right now is five so I have assigned five already that five is a ladder, so then it will increase and for example if 12 is a snake then I've already defined that at 12 you need to decrement the value by for example FIFO or whatever\u001b[1;m. So I will predefined .   . where you will predefined these values? .   . So I can use a dictionary to like if I'm doing in Python then I can use it dictonary. .   . If we are using C then and C++, Java there we doesn't have any dictionary .   . Then sir we can ah we can use array of arrays and then like make dictionary with the help of arrays .   . Okay yes can we switch or not there? .   . switch yes hnn but so we can use but it is too long like we will have to write the code many times in switch .   . why many times we can define a in switch global or anywhere then we can use it .   . cause switch for snake and switch for a ladder two separate switches we can use yes sir that we can .   . ahh so what do you mean by the encapsulation is Divyansh answer is correct. .   .\u001b[1;43m Sir partially it is correct it is used for data hiding but more data security\u001b[1;m. So aa in our class it is implemented using access modifiers like public protected private and there is a default access specifier as well. So ahh using these we can a define the scope of the variables or the functions like if it is public then it can be used all through and if it is protected then only the subclasses can use it and if private then only the current class can use it. .   . What do you mean by storage classes ? .   . A storage classes sir im no able to recall ive a .   . Okay gauri all the best .   . Thankyou so much .   . Explore more and more Tcs technical interview questions right? Ok sir They are basically mainly from C and C++. .   . Okay sir ill keep that in mind thankyou so much sir all the best thank you .   . A from my side and rathor sir interview my remark for you definitely you are the good candidate that we have already observed many time ahh technical knowledge I have not checked out your head of department CAC will check it out but a you can easily correct the process. .   . Okay thank you so much sir .   . Or a when you are clear about your thought process then at least it should be justified when you are giving the interviews Yes sir sure it is very important ok sir if they feel that you want to come but you can not come then then there is a chances they can drop you.\u001b[1;43m Either you are a good candidate or the best for example Google want to hire somebody or they find the candidate which is having the capabilities to get a caror package in a anom\u001b[1;m. But they have the doubt that no doubt is the best but they have the doubt that either he'll join or not. then might be they can drop so yes that kind of condition in the interview at least shoud not be so case. .   . Okay I'll keep that in mind sir thank you .   . Otherwise all set all right ok .   . Thank you .   . Thank you sir .   . \n"
     ]
    }
   ],
   "source": [
    "print(generate_final2(text, summary_bert))"
   ]
  },
  {
   "cell_type": "code",
   "execution_count": 17,
   "id": "0ed6878a",
   "metadata": {
    "execution": {
     "iopub.execute_input": "2022-05-02T11:18:26.207469Z",
     "iopub.status.busy": "2022-05-02T11:18:26.207129Z",
     "iopub.status.idle": "2022-05-02T11:18:26.213103Z",
     "shell.execute_reply": "2022-05-02T11:18:26.212302Z"
    },
    "papermill": {
     "duration": 0.056599,
     "end_time": "2022-05-02T11:18:26.214916",
     "exception": false,
     "start_time": "2022-05-02T11:18:26.158317",
     "status": "completed"
    },
    "tags": []
   },
   "outputs": [],
   "source": [
    "file1 = open(\"NER_extraction.txt\",\"w\")\n",
    "file1.write(summary_ner)\n",
    "file1.close()\n",
    "\n",
    "file2 = open(\"SPACY_extraction.txt\",\"w\")\n",
    "file2.write(summary_spacy)\n",
    "file2.close()\n",
    "\n",
    "file3 = open(\"BERT_extraction.txt\",\"w\")\n",
    "file3.write(summary_bert)\n",
    "file3.close()"
   ]
  },
  {
   "cell_type": "code",
   "execution_count": null,
   "id": "76bc4cc8",
   "metadata": {
    "papermill": {
     "duration": 0.04714,
     "end_time": "2022-05-02T11:18:26.309228",
     "exception": false,
     "start_time": "2022-05-02T11:18:26.262088",
     "status": "completed"
    },
    "tags": []
   },
   "outputs": [],
   "source": []
  },
  {
   "cell_type": "code",
   "execution_count": null,
   "id": "ff7e29d5",
   "metadata": {
    "papermill": {
     "duration": 0.047012,
     "end_time": "2022-05-02T11:18:26.403285",
     "exception": false,
     "start_time": "2022-05-02T11:18:26.356273",
     "status": "completed"
    },
    "tags": []
   },
   "outputs": [],
   "source": []
  },
  {
   "cell_type": "code",
   "execution_count": null,
   "id": "e50aeb24",
   "metadata": {
    "papermill": {
     "duration": 0.046601,
     "end_time": "2022-05-02T11:18:26.497307",
     "exception": false,
     "start_time": "2022-05-02T11:18:26.450706",
     "status": "completed"
    },
    "tags": []
   },
   "outputs": [],
   "source": []
  },
  {
   "cell_type": "code",
   "execution_count": null,
   "id": "8ab142f1",
   "metadata": {
    "papermill": {
     "duration": 0.046445,
     "end_time": "2022-05-02T11:18:26.590492",
     "exception": false,
     "start_time": "2022-05-02T11:18:26.544047",
     "status": "completed"
    },
    "tags": []
   },
   "outputs": [],
   "source": []
  },
  {
   "cell_type": "code",
   "execution_count": null,
   "id": "9b96b41a",
   "metadata": {
    "papermill": {
     "duration": 0.046673,
     "end_time": "2022-05-02T11:18:26.684537",
     "exception": false,
     "start_time": "2022-05-02T11:18:26.637864",
     "status": "completed"
    },
    "tags": []
   },
   "outputs": [],
   "source": []
  },
  {
   "cell_type": "code",
   "execution_count": null,
   "id": "d064fee3",
   "metadata": {
    "papermill": {
     "duration": 0.046767,
     "end_time": "2022-05-02T11:18:26.778358",
     "exception": false,
     "start_time": "2022-05-02T11:18:26.731591",
     "status": "completed"
    },
    "tags": []
   },
   "outputs": [],
   "source": []
  },
  {
   "cell_type": "code",
   "execution_count": null,
   "id": "30d650c3",
   "metadata": {
    "papermill": {
     "duration": 0.047916,
     "end_time": "2022-05-02T11:18:26.873262",
     "exception": false,
     "start_time": "2022-05-02T11:18:26.825346",
     "status": "completed"
    },
    "tags": []
   },
   "outputs": [],
   "source": []
  },
  {
   "cell_type": "code",
   "execution_count": null,
   "id": "ffb58b17",
   "metadata": {
    "papermill": {
     "duration": 0.04752,
     "end_time": "2022-05-02T11:18:26.968203",
     "exception": false,
     "start_time": "2022-05-02T11:18:26.920683",
     "status": "completed"
    },
    "tags": []
   },
   "outputs": [],
   "source": []
  },
  {
   "cell_type": "code",
   "execution_count": null,
   "id": "70118944",
   "metadata": {
    "papermill": {
     "duration": 0.046683,
     "end_time": "2022-05-02T11:18:27.062898",
     "exception": false,
     "start_time": "2022-05-02T11:18:27.016215",
     "status": "completed"
    },
    "tags": []
   },
   "outputs": [],
   "source": []
  },
  {
   "cell_type": "code",
   "execution_count": null,
   "id": "42b86953",
   "metadata": {
    "papermill": {
     "duration": 0.046884,
     "end_time": "2022-05-02T11:18:27.158429",
     "exception": false,
     "start_time": "2022-05-02T11:18:27.111545",
     "status": "completed"
    },
    "tags": []
   },
   "outputs": [],
   "source": []
  },
  {
   "cell_type": "code",
   "execution_count": null,
   "id": "5b06b372",
   "metadata": {
    "papermill": {
     "duration": 0.04712,
     "end_time": "2022-05-02T11:18:27.253366",
     "exception": false,
     "start_time": "2022-05-02T11:18:27.206246",
     "status": "completed"
    },
    "tags": []
   },
   "outputs": [],
   "source": []
  },
  {
   "cell_type": "code",
   "execution_count": null,
   "id": "7e38f2cd",
   "metadata": {
    "papermill": {
     "duration": 0.046566,
     "end_time": "2022-05-02T11:18:27.346938",
     "exception": false,
     "start_time": "2022-05-02T11:18:27.300372",
     "status": "completed"
    },
    "tags": []
   },
   "outputs": [],
   "source": []
  },
  {
   "cell_type": "code",
   "execution_count": null,
   "id": "3694b12c",
   "metadata": {
    "papermill": {
     "duration": 0.047425,
     "end_time": "2022-05-02T11:18:27.441424",
     "exception": false,
     "start_time": "2022-05-02T11:18:27.393999",
     "status": "completed"
    },
    "tags": []
   },
   "outputs": [],
   "source": []
  },
  {
   "cell_type": "code",
   "execution_count": null,
   "id": "8d9ae4c8",
   "metadata": {
    "papermill": {
     "duration": 0.047202,
     "end_time": "2022-05-02T11:18:27.535634",
     "exception": false,
     "start_time": "2022-05-02T11:18:27.488432",
     "status": "completed"
    },
    "tags": []
   },
   "outputs": [],
   "source": []
  },
  {
   "cell_type": "code",
   "execution_count": null,
   "id": "04c90624",
   "metadata": {
    "papermill": {
     "duration": 0.046879,
     "end_time": "2022-05-02T11:18:27.629849",
     "exception": false,
     "start_time": "2022-05-02T11:18:27.582970",
     "status": "completed"
    },
    "tags": []
   },
   "outputs": [],
   "source": []
  },
  {
   "cell_type": "code",
   "execution_count": null,
   "id": "7c6bb78a",
   "metadata": {
    "papermill": {
     "duration": 0.047215,
     "end_time": "2022-05-02T11:18:27.723949",
     "exception": false,
     "start_time": "2022-05-02T11:18:27.676734",
     "status": "completed"
    },
    "tags": []
   },
   "outputs": [],
   "source": []
  },
  {
   "cell_type": "code",
   "execution_count": null,
   "id": "a6b7c514",
   "metadata": {
    "papermill": {
     "duration": 0.046984,
     "end_time": "2022-05-02T11:18:27.817837",
     "exception": false,
     "start_time": "2022-05-02T11:18:27.770853",
     "status": "completed"
    },
    "tags": []
   },
   "outputs": [],
   "source": []
  },
  {
   "cell_type": "code",
   "execution_count": null,
   "id": "ea64d9ff",
   "metadata": {
    "papermill": {
     "duration": 0.048967,
     "end_time": "2022-05-02T11:18:27.915769",
     "exception": false,
     "start_time": "2022-05-02T11:18:27.866802",
     "status": "completed"
    },
    "tags": []
   },
   "outputs": [],
   "source": []
  },
  {
   "cell_type": "code",
   "execution_count": null,
   "id": "041e3086",
   "metadata": {
    "papermill": {
     "duration": 0.047546,
     "end_time": "2022-05-02T11:18:28.013207",
     "exception": false,
     "start_time": "2022-05-02T11:18:27.965661",
     "status": "completed"
    },
    "tags": []
   },
   "outputs": [],
   "source": []
  },
  {
   "cell_type": "code",
   "execution_count": null,
   "id": "41999188",
   "metadata": {
    "papermill": {
     "duration": 0.046925,
     "end_time": "2022-05-02T11:18:28.108780",
     "exception": false,
     "start_time": "2022-05-02T11:18:28.061855",
     "status": "completed"
    },
    "tags": []
   },
   "outputs": [],
   "source": []
  },
  {
   "cell_type": "code",
   "execution_count": null,
   "id": "9c165d70",
   "metadata": {
    "papermill": {
     "duration": 0.048946,
     "end_time": "2022-05-02T11:18:28.207398",
     "exception": false,
     "start_time": "2022-05-02T11:18:28.158452",
     "status": "completed"
    },
    "tags": []
   },
   "outputs": [],
   "source": []
  },
  {
   "cell_type": "code",
   "execution_count": null,
   "id": "6afdfadf",
   "metadata": {
    "papermill": {
     "duration": 0.046528,
     "end_time": "2022-05-02T11:18:28.301819",
     "exception": false,
     "start_time": "2022-05-02T11:18:28.255291",
     "status": "completed"
    },
    "tags": []
   },
   "outputs": [],
   "source": []
  },
  {
   "cell_type": "code",
   "execution_count": null,
   "id": "ef23c5c0",
   "metadata": {
    "papermill": {
     "duration": 0.068674,
     "end_time": "2022-05-02T11:18:28.425110",
     "exception": false,
     "start_time": "2022-05-02T11:18:28.356436",
     "status": "completed"
    },
    "tags": []
   },
   "outputs": [],
   "source": []
  },
  {
   "cell_type": "code",
   "execution_count": null,
   "id": "4b39d115",
   "metadata": {
    "papermill": {
     "duration": 0.048492,
     "end_time": "2022-05-02T11:18:28.530792",
     "exception": false,
     "start_time": "2022-05-02T11:18:28.482300",
     "status": "completed"
    },
    "tags": []
   },
   "outputs": [],
   "source": []
  },
  {
   "cell_type": "code",
   "execution_count": null,
   "id": "d5041c62",
   "metadata": {
    "papermill": {
     "duration": 0.049182,
     "end_time": "2022-05-02T11:18:28.634930",
     "exception": false,
     "start_time": "2022-05-02T11:18:28.585748",
     "status": "completed"
    },
    "tags": []
   },
   "outputs": [],
   "source": []
  }
 ],
 "metadata": {
  "kernelspec": {
   "display_name": "Python 3",
   "language": "python",
   "name": "python3"
  },
  "language_info": {
   "codemirror_mode": {
    "name": "ipython",
    "version": 3
   },
   "file_extension": ".py",
   "mimetype": "text/x-python",
   "name": "python",
   "nbconvert_exporter": "python",
   "pygments_lexer": "ipython3",
   "version": "3.7.12"
  },
  "papermill": {
   "default_parameters": {},
   "duration": 166.009152,
   "end_time": "2022-05-02T11:18:31.865633",
   "environment_variables": {},
   "exception": null,
   "input_path": "__notebook__.ipynb",
   "output_path": "__notebook__.ipynb",
   "parameters": {},
   "start_time": "2022-05-02T11:15:45.856481",
   "version": "2.3.4"
  },
  "widgets": {
   "application/vnd.jupyter.widget-state+json": {
    "state": {
     "0f4a881cb4de4372b571cf6f3c89c880": {
      "model_module": "@jupyter-widgets/controls",
      "model_module_version": "1.5.0",
      "model_name": "FloatProgressModel",
      "state": {
       "_dom_classes": [],
       "_model_module": "@jupyter-widgets/controls",
       "_model_module_version": "1.5.0",
       "_model_name": "FloatProgressModel",
       "_view_count": null,
       "_view_module": "@jupyter-widgets/controls",
       "_view_module_version": "1.5.0",
       "_view_name": "ProgressView",
       "bar_style": "success",
       "description": "",
       "description_tooltip": null,
       "layout": "IPY_MODEL_146c39ee956b4d7897d16a2f61c8c5cc",
       "max": 571.0,
       "min": 0.0,
       "orientation": "horizontal",
       "style": "IPY_MODEL_68770c41155d4c139e502d9dd0ad462a",
       "value": 571.0
      }
     },
     "146509fb5bf643949d8fb924c1d7a946": {
      "model_module": "@jupyter-widgets/base",
      "model_module_version": "1.2.0",
      "model_name": "LayoutModel",
      "state": {
       "_model_module": "@jupyter-widgets/base",
       "_model_module_version": "1.2.0",
       "_model_name": "LayoutModel",
       "_view_count": null,
       "_view_module": "@jupyter-widgets/base",
       "_view_module_version": "1.2.0",
       "_view_name": "LayoutView",
       "align_content": null,
       "align_items": null,
       "align_self": null,
       "border": null,
       "bottom": null,
       "display": null,
       "flex": null,
       "flex_flow": null,
       "grid_area": null,
       "grid_auto_columns": null,
       "grid_auto_flow": null,
       "grid_auto_rows": null,
       "grid_column": null,
       "grid_gap": null,
       "grid_row": null,
       "grid_template_areas": null,
       "grid_template_columns": null,
       "grid_template_rows": null,
       "height": null,
       "justify_content": null,
       "justify_items": null,
       "left": null,
       "margin": null,
       "max_height": null,
       "max_width": null,
       "min_height": null,
       "min_width": null,
       "object_fit": null,
       "object_position": null,
       "order": null,
       "overflow": null,
       "overflow_x": null,
       "overflow_y": null,
       "padding": null,
       "right": null,
       "top": null,
       "visibility": null,
       "width": null
      }
     },
     "146c39ee956b4d7897d16a2f61c8c5cc": {
      "model_module": "@jupyter-widgets/base",
      "model_module_version": "1.2.0",
      "model_name": "LayoutModel",
      "state": {
       "_model_module": "@jupyter-widgets/base",
       "_model_module_version": "1.2.0",
       "_model_name": "LayoutModel",
       "_view_count": null,
       "_view_module": "@jupyter-widgets/base",
       "_view_module_version": "1.2.0",
       "_view_name": "LayoutView",
       "align_content": null,
       "align_items": null,
       "align_self": null,
       "border": null,
       "bottom": null,
       "display": null,
       "flex": null,
       "flex_flow": null,
       "grid_area": null,
       "grid_auto_columns": null,
       "grid_auto_flow": null,
       "grid_auto_rows": null,
       "grid_column": null,
       "grid_gap": null,
       "grid_row": null,
       "grid_template_areas": null,
       "grid_template_columns": null,
       "grid_template_rows": null,
       "height": null,
       "justify_content": null,
       "justify_items": null,
       "left": null,
       "margin": null,
       "max_height": null,
       "max_width": null,
       "min_height": null,
       "min_width": null,
       "object_fit": null,
       "object_position": null,
       "order": null,
       "overflow": null,
       "overflow_x": null,
       "overflow_y": null,
       "padding": null,
       "right": null,
       "top": null,
       "visibility": null,
       "width": null
      }
     },
     "1c608a8ddec34dfbbc7f95fd87ca08cb": {
      "model_module": "@jupyter-widgets/controls",
      "model_module_version": "1.5.0",
      "model_name": "DescriptionStyleModel",
      "state": {
       "_model_module": "@jupyter-widgets/controls",
       "_model_module_version": "1.5.0",
       "_model_name": "DescriptionStyleModel",
       "_view_count": null,
       "_view_module": "@jupyter-widgets/base",
       "_view_module_version": "1.2.0",
       "_view_name": "StyleView",
       "description_width": ""
      }
     },
     "23887c6af5bb413ebc273edb1b209783": {
      "model_module": "@jupyter-widgets/controls",
      "model_module_version": "1.5.0",
      "model_name": "FloatProgressModel",
      "state": {
       "_dom_classes": [],
       "_model_module": "@jupyter-widgets/controls",
       "_model_module_version": "1.5.0",
       "_model_name": "FloatProgressModel",
       "_view_count": null,
       "_view_module": "@jupyter-widgets/controls",
       "_view_module_version": "1.5.0",
       "_view_name": "ProgressView",
       "bar_style": "success",
       "description": "",
       "description_tooltip": null,
       "layout": "IPY_MODEL_494eb02ccc344b2e891886d6326cc7cd",
       "max": 1344997306.0,
       "min": 0.0,
       "orientation": "horizontal",
       "style": "IPY_MODEL_a1d7f32fba7e4585aa8fcc3c36d3edfd",
       "value": 1344997306.0
      }
     },
     "27d67f6b77f14265b8e80c6728f6e21f": {
      "model_module": "@jupyter-widgets/base",
      "model_module_version": "1.2.0",
      "model_name": "LayoutModel",
      "state": {
       "_model_module": "@jupyter-widgets/base",
       "_model_module_version": "1.2.0",
       "_model_name": "LayoutModel",
       "_view_count": null,
       "_view_module": "@jupyter-widgets/base",
       "_view_module_version": "1.2.0",
       "_view_name": "LayoutView",
       "align_content": null,
       "align_items": null,
       "align_self": null,
       "border": null,
       "bottom": null,
       "display": null,
       "flex": null,
       "flex_flow": null,
       "grid_area": null,
       "grid_auto_columns": null,
       "grid_auto_flow": null,
       "grid_auto_rows": null,
       "grid_column": null,
       "grid_gap": null,
       "grid_row": null,
       "grid_template_areas": null,
       "grid_template_columns": null,
       "grid_template_rows": null,
       "height": null,
       "justify_content": null,
       "justify_items": null,
       "left": null,
       "margin": null,
       "max_height": null,
       "max_width": null,
       "min_height": null,
       "min_width": null,
       "object_fit": null,
       "object_position": null,
       "order": null,
       "overflow": null,
       "overflow_x": null,
       "overflow_y": null,
       "padding": null,
       "right": null,
       "top": null,
       "visibility": null,
       "width": null
      }
     },
     "2c1a9772692a422d9ad5d2fecc540997": {
      "model_module": "@jupyter-widgets/controls",
      "model_module_version": "1.5.0",
      "model_name": "HTMLModel",
      "state": {
       "_dom_classes": [],
       "_model_module": "@jupyter-widgets/controls",
       "_model_module_version": "1.5.0",
       "_model_name": "HTMLModel",
       "_view_count": null,
       "_view_module": "@jupyter-widgets/controls",
       "_view_module_version": "1.5.0",
       "_view_name": "HTMLView",
       "description": "",
       "description_tooltip": null,
       "layout": "IPY_MODEL_af9d43ec62444aa6b767177af5beee59",
       "placeholder": "​",
       "style": "IPY_MODEL_d0305c6c9f804b0fac0d3b5996d49367",
       "value": "Downloading: 100%"
      }
     },
     "33837acfb02a409db19c0044901fcc1e": {
      "model_module": "@jupyter-widgets/controls",
      "model_module_version": "1.5.0",
      "model_name": "HTMLModel",
      "state": {
       "_dom_classes": [],
       "_model_module": "@jupyter-widgets/controls",
       "_model_module_version": "1.5.0",
       "_model_name": "HTMLModel",
       "_view_count": null,
       "_view_module": "@jupyter-widgets/controls",
       "_view_module_version": "1.5.0",
       "_view_name": "HTMLView",
       "description": "",
       "description_tooltip": null,
       "layout": "IPY_MODEL_ef794df0290344de8339cabe80b6aa63",
       "placeholder": "​",
       "style": "IPY_MODEL_ef4a90d8683545c88139da77d2c9b606",
       "value": "Downloading: 100%"
      }
     },
     "33c6bbcf7ebf43ad9c55ae9096f8366b": {
      "model_module": "@jupyter-widgets/controls",
      "model_module_version": "1.5.0",
      "model_name": "HTMLModel",
      "state": {
       "_dom_classes": [],
       "_model_module": "@jupyter-widgets/controls",
       "_model_module_version": "1.5.0",
       "_model_name": "HTMLModel",
       "_view_count": null,
       "_view_module": "@jupyter-widgets/controls",
       "_view_module_version": "1.5.0",
       "_view_name": "HTMLView",
       "description": "",
       "description_tooltip": null,
       "layout": "IPY_MODEL_cee3eb471b8749449d61b70f7ec6af1e",
       "placeholder": "​",
       "style": "IPY_MODEL_561956938fa2430e84ddaf3bf575c627",
       "value": " 571/571 [00:00&lt;00:00, 21.8kB/s]"
      }
     },
     "3bf9fac25db44715b417ea12fa4f1c7e": {
      "model_module": "@jupyter-widgets/controls",
      "model_module_version": "1.5.0",
      "model_name": "HTMLModel",
      "state": {
       "_dom_classes": [],
       "_model_module": "@jupyter-widgets/controls",
       "_model_module_version": "1.5.0",
       "_model_name": "HTMLModel",
       "_view_count": null,
       "_view_module": "@jupyter-widgets/controls",
       "_view_module_version": "1.5.0",
       "_view_name": "HTMLView",
       "description": "",
       "description_tooltip": null,
       "layout": "IPY_MODEL_146509fb5bf643949d8fb924c1d7a946",
       "placeholder": "​",
       "style": "IPY_MODEL_a0153143882949d1815784d6129fcbc8",
       "value": " 226k/226k [00:00&lt;00:00, 487kB/s]"
      }
     },
     "494eb02ccc344b2e891886d6326cc7cd": {
      "model_module": "@jupyter-widgets/base",
      "model_module_version": "1.2.0",
      "model_name": "LayoutModel",
      "state": {
       "_model_module": "@jupyter-widgets/base",
       "_model_module_version": "1.2.0",
       "_model_name": "LayoutModel",
       "_view_count": null,
       "_view_module": "@jupyter-widgets/base",
       "_view_module_version": "1.2.0",
       "_view_name": "LayoutView",
       "align_content": null,
       "align_items": null,
       "align_self": null,
       "border": null,
       "bottom": null,
       "display": null,
       "flex": null,
       "flex_flow": null,
       "grid_area": null,
       "grid_auto_columns": null,
       "grid_auto_flow": null,
       "grid_auto_rows": null,
       "grid_column": null,
       "grid_gap": null,
       "grid_row": null,
       "grid_template_areas": null,
       "grid_template_columns": null,
       "grid_template_rows": null,
       "height": null,
       "justify_content": null,
       "justify_items": null,
       "left": null,
       "margin": null,
       "max_height": null,
       "max_width": null,
       "min_height": null,
       "min_width": null,
       "object_fit": null,
       "object_position": null,
       "order": null,
       "overflow": null,
       "overflow_x": null,
       "overflow_y": null,
       "padding": null,
       "right": null,
       "top": null,
       "visibility": null,
       "width": null
      }
     },
     "4b5ed0a4eb3c43dab2f9539954ddfab0": {
      "model_module": "@jupyter-widgets/controls",
      "model_module_version": "1.5.0",
      "model_name": "HTMLModel",
      "state": {
       "_dom_classes": [],
       "_model_module": "@jupyter-widgets/controls",
       "_model_module_version": "1.5.0",
       "_model_name": "HTMLModel",
       "_view_count": null,
       "_view_module": "@jupyter-widgets/controls",
       "_view_module_version": "1.5.0",
       "_view_name": "HTMLView",
       "description": "",
       "description_tooltip": null,
       "layout": "IPY_MODEL_6a3bfacfc558443cad9c546f4a7926e7",
       "placeholder": "​",
       "style": "IPY_MODEL_1c608a8ddec34dfbbc7f95fd87ca08cb",
       "value": "Downloading: 100%"
      }
     },
     "4bc48be601244c468204be95fecbd3ec": {
      "model_module": "@jupyter-widgets/controls",
      "model_module_version": "1.5.0",
      "model_name": "HBoxModel",
      "state": {
       "_dom_classes": [],
       "_model_module": "@jupyter-widgets/controls",
       "_model_module_version": "1.5.0",
       "_model_name": "HBoxModel",
       "_view_count": null,
       "_view_module": "@jupyter-widgets/controls",
       "_view_module_version": "1.5.0",
       "_view_name": "HBoxView",
       "box_style": "",
       "children": [
        "IPY_MODEL_2c1a9772692a422d9ad5d2fecc540997",
        "IPY_MODEL_23887c6af5bb413ebc273edb1b209783",
        "IPY_MODEL_dd60b9b25d5e452ca2b7f9e41a48ffac"
       ],
       "layout": "IPY_MODEL_7594588126b74869aaeddf4e095d1100"
      }
     },
     "4da3678b455746739fd6b8b47957674b": {
      "model_module": "@jupyter-widgets/controls",
      "model_module_version": "1.5.0",
      "model_name": "DescriptionStyleModel",
      "state": {
       "_model_module": "@jupyter-widgets/controls",
       "_model_module_version": "1.5.0",
       "_model_name": "DescriptionStyleModel",
       "_view_count": null,
       "_view_module": "@jupyter-widgets/base",
       "_view_module_version": "1.2.0",
       "_view_name": "StyleView",
       "description_width": ""
      }
     },
     "5200692436054f9cba95ac7e5d44bbc2": {
      "model_module": "@jupyter-widgets/controls",
      "model_module_version": "1.5.0",
      "model_name": "DescriptionStyleModel",
      "state": {
       "_model_module": "@jupyter-widgets/controls",
       "_model_module_version": "1.5.0",
       "_model_name": "DescriptionStyleModel",
       "_view_count": null,
       "_view_module": "@jupyter-widgets/base",
       "_view_module_version": "1.2.0",
       "_view_name": "StyleView",
       "description_width": ""
      }
     },
     "53bbcf7e73df4fa9a699c6239b5b14ec": {
      "model_module": "@jupyter-widgets/controls",
      "model_module_version": "1.5.0",
      "model_name": "HBoxModel",
      "state": {
       "_dom_classes": [],
       "_model_module": "@jupyter-widgets/controls",
       "_model_module_version": "1.5.0",
       "_model_name": "HBoxModel",
       "_view_count": null,
       "_view_module": "@jupyter-widgets/controls",
       "_view_module_version": "1.5.0",
       "_view_name": "HBoxView",
       "box_style": "",
       "children": [
        "IPY_MODEL_33837acfb02a409db19c0044901fcc1e",
        "IPY_MODEL_6a83c1376c51486b887afcb847246de9",
        "IPY_MODEL_8358e5d5cc1349d3b053fdd1f754ab2b"
       ],
       "layout": "IPY_MODEL_27d67f6b77f14265b8e80c6728f6e21f"
      }
     },
     "561956938fa2430e84ddaf3bf575c627": {
      "model_module": "@jupyter-widgets/controls",
      "model_module_version": "1.5.0",
      "model_name": "DescriptionStyleModel",
      "state": {
       "_model_module": "@jupyter-widgets/controls",
       "_model_module_version": "1.5.0",
       "_model_name": "DescriptionStyleModel",
       "_view_count": null,
       "_view_module": "@jupyter-widgets/base",
       "_view_module_version": "1.2.0",
       "_view_name": "StyleView",
       "description_width": ""
      }
     },
     "5ac8eace82ce465ba48a5b3f1e8afc93": {
      "model_module": "@jupyter-widgets/base",
      "model_module_version": "1.2.0",
      "model_name": "LayoutModel",
      "state": {
       "_model_module": "@jupyter-widgets/base",
       "_model_module_version": "1.2.0",
       "_model_name": "LayoutModel",
       "_view_count": null,
       "_view_module": "@jupyter-widgets/base",
       "_view_module_version": "1.2.0",
       "_view_name": "LayoutView",
       "align_content": null,
       "align_items": null,
       "align_self": null,
       "border": null,
       "bottom": null,
       "display": null,
       "flex": null,
       "flex_flow": null,
       "grid_area": null,
       "grid_auto_columns": null,
       "grid_auto_flow": null,
       "grid_auto_rows": null,
       "grid_column": null,
       "grid_gap": null,
       "grid_row": null,
       "grid_template_areas": null,
       "grid_template_columns": null,
       "grid_template_rows": null,
       "height": null,
       "justify_content": null,
       "justify_items": null,
       "left": null,
       "margin": null,
       "max_height": null,
       "max_width": null,
       "min_height": null,
       "min_width": null,
       "object_fit": null,
       "object_position": null,
       "order": null,
       "overflow": null,
       "overflow_x": null,
       "overflow_y": null,
       "padding": null,
       "right": null,
       "top": null,
       "visibility": null,
       "width": null
      }
     },
     "61f4ae7b134848219f5cb874f9b306df": {
      "model_module": "@jupyter-widgets/base",
      "model_module_version": "1.2.0",
      "model_name": "LayoutModel",
      "state": {
       "_model_module": "@jupyter-widgets/base",
       "_model_module_version": "1.2.0",
       "_model_name": "LayoutModel",
       "_view_count": null,
       "_view_module": "@jupyter-widgets/base",
       "_view_module_version": "1.2.0",
       "_view_name": "LayoutView",
       "align_content": null,
       "align_items": null,
       "align_self": null,
       "border": null,
       "bottom": null,
       "display": null,
       "flex": null,
       "flex_flow": null,
       "grid_area": null,
       "grid_auto_columns": null,
       "grid_auto_flow": null,
       "grid_auto_rows": null,
       "grid_column": null,
       "grid_gap": null,
       "grid_row": null,
       "grid_template_areas": null,
       "grid_template_columns": null,
       "grid_template_rows": null,
       "height": null,
       "justify_content": null,
       "justify_items": null,
       "left": null,
       "margin": null,
       "max_height": null,
       "max_width": null,
       "min_height": null,
       "min_width": null,
       "object_fit": null,
       "object_position": null,
       "order": null,
       "overflow": null,
       "overflow_x": null,
       "overflow_y": null,
       "padding": null,
       "right": null,
       "top": null,
       "visibility": null,
       "width": null
      }
     },
     "68770c41155d4c139e502d9dd0ad462a": {
      "model_module": "@jupyter-widgets/controls",
      "model_module_version": "1.5.0",
      "model_name": "ProgressStyleModel",
      "state": {
       "_model_module": "@jupyter-widgets/controls",
       "_model_module_version": "1.5.0",
       "_model_name": "ProgressStyleModel",
       "_view_count": null,
       "_view_module": "@jupyter-widgets/base",
       "_view_module_version": "1.2.0",
       "_view_name": "StyleView",
       "bar_color": null,
       "description_width": ""
      }
     },
     "6a3bfacfc558443cad9c546f4a7926e7": {
      "model_module": "@jupyter-widgets/base",
      "model_module_version": "1.2.0",
      "model_name": "LayoutModel",
      "state": {
       "_model_module": "@jupyter-widgets/base",
       "_model_module_version": "1.2.0",
       "_model_name": "LayoutModel",
       "_view_count": null,
       "_view_module": "@jupyter-widgets/base",
       "_view_module_version": "1.2.0",
       "_view_name": "LayoutView",
       "align_content": null,
       "align_items": null,
       "align_self": null,
       "border": null,
       "bottom": null,
       "display": null,
       "flex": null,
       "flex_flow": null,
       "grid_area": null,
       "grid_auto_columns": null,
       "grid_auto_flow": null,
       "grid_auto_rows": null,
       "grid_column": null,
       "grid_gap": null,
       "grid_row": null,
       "grid_template_areas": null,
       "grid_template_columns": null,
       "grid_template_rows": null,
       "height": null,
       "justify_content": null,
       "justify_items": null,
       "left": null,
       "margin": null,
       "max_height": null,
       "max_width": null,
       "min_height": null,
       "min_width": null,
       "object_fit": null,
       "object_position": null,
       "order": null,
       "overflow": null,
       "overflow_x": null,
       "overflow_y": null,
       "padding": null,
       "right": null,
       "top": null,
       "visibility": null,
       "width": null
      }
     },
     "6a83c1376c51486b887afcb847246de9": {
      "model_module": "@jupyter-widgets/controls",
      "model_module_version": "1.5.0",
      "model_name": "FloatProgressModel",
      "state": {
       "_dom_classes": [],
       "_model_module": "@jupyter-widgets/controls",
       "_model_module_version": "1.5.0",
       "_model_name": "FloatProgressModel",
       "_view_count": null,
       "_view_module": "@jupyter-widgets/controls",
       "_view_module_version": "1.5.0",
       "_view_name": "ProgressView",
       "bar_style": "success",
       "description": "",
       "description_tooltip": null,
       "layout": "IPY_MODEL_5ac8eace82ce465ba48a5b3f1e8afc93",
       "max": 28.0,
       "min": 0.0,
       "orientation": "horizontal",
       "style": "IPY_MODEL_908261af911f427b8149234e4c2eea63",
       "value": 28.0
      }
     },
     "7594588126b74869aaeddf4e095d1100": {
      "model_module": "@jupyter-widgets/base",
      "model_module_version": "1.2.0",
      "model_name": "LayoutModel",
      "state": {
       "_model_module": "@jupyter-widgets/base",
       "_model_module_version": "1.2.0",
       "_model_name": "LayoutModel",
       "_view_count": null,
       "_view_module": "@jupyter-widgets/base",
       "_view_module_version": "1.2.0",
       "_view_name": "LayoutView",
       "align_content": null,
       "align_items": null,
       "align_self": null,
       "border": null,
       "bottom": null,
       "display": null,
       "flex": null,
       "flex_flow": null,
       "grid_area": null,
       "grid_auto_columns": null,
       "grid_auto_flow": null,
       "grid_auto_rows": null,
       "grid_column": null,
       "grid_gap": null,
       "grid_row": null,
       "grid_template_areas": null,
       "grid_template_columns": null,
       "grid_template_rows": null,
       "height": null,
       "justify_content": null,
       "justify_items": null,
       "left": null,
       "margin": null,
       "max_height": null,
       "max_width": null,
       "min_height": null,
       "min_width": null,
       "object_fit": null,
       "object_position": null,
       "order": null,
       "overflow": null,
       "overflow_x": null,
       "overflow_y": null,
       "padding": null,
       "right": null,
       "top": null,
       "visibility": null,
       "width": null
      }
     },
     "7ef9a0410b814920b81969befe509177": {
      "model_module": "@jupyter-widgets/controls",
      "model_module_version": "1.5.0",
      "model_name": "FloatProgressModel",
      "state": {
       "_dom_classes": [],
       "_model_module": "@jupyter-widgets/controls",
       "_model_module_version": "1.5.0",
       "_model_name": "FloatProgressModel",
       "_view_count": null,
       "_view_module": "@jupyter-widgets/controls",
       "_view_module_version": "1.5.0",
       "_view_name": "ProgressView",
       "bar_style": "success",
       "description": "",
       "description_tooltip": null,
       "layout": "IPY_MODEL_9b8cefb29f4b449a84ecd9ffaebc3cc1",
       "max": 231508.0,
       "min": 0.0,
       "orientation": "horizontal",
       "style": "IPY_MODEL_d0fc728b73cf4601a77a909ef895c643",
       "value": 231508.0
      }
     },
     "80889ee4e57e4002856c5eb071a2ee29": {
      "model_module": "@jupyter-widgets/base",
      "model_module_version": "1.2.0",
      "model_name": "LayoutModel",
      "state": {
       "_model_module": "@jupyter-widgets/base",
       "_model_module_version": "1.2.0",
       "_model_name": "LayoutModel",
       "_view_count": null,
       "_view_module": "@jupyter-widgets/base",
       "_view_module_version": "1.2.0",
       "_view_name": "LayoutView",
       "align_content": null,
       "align_items": null,
       "align_self": null,
       "border": null,
       "bottom": null,
       "display": null,
       "flex": null,
       "flex_flow": null,
       "grid_area": null,
       "grid_auto_columns": null,
       "grid_auto_flow": null,
       "grid_auto_rows": null,
       "grid_column": null,
       "grid_gap": null,
       "grid_row": null,
       "grid_template_areas": null,
       "grid_template_columns": null,
       "grid_template_rows": null,
       "height": null,
       "justify_content": null,
       "justify_items": null,
       "left": null,
       "margin": null,
       "max_height": null,
       "max_width": null,
       "min_height": null,
       "min_width": null,
       "object_fit": null,
       "object_position": null,
       "order": null,
       "overflow": null,
       "overflow_x": null,
       "overflow_y": null,
       "padding": null,
       "right": null,
       "top": null,
       "visibility": null,
       "width": null
      }
     },
     "8358e5d5cc1349d3b053fdd1f754ab2b": {
      "model_module": "@jupyter-widgets/controls",
      "model_module_version": "1.5.0",
      "model_name": "HTMLModel",
      "state": {
       "_dom_classes": [],
       "_model_module": "@jupyter-widgets/controls",
       "_model_module_version": "1.5.0",
       "_model_name": "HTMLModel",
       "_view_count": null,
       "_view_module": "@jupyter-widgets/controls",
       "_view_module_version": "1.5.0",
       "_view_name": "HTMLView",
       "description": "",
       "description_tooltip": null,
       "layout": "IPY_MODEL_ef12304e17be4aa9bf2d7a1f092cfd5e",
       "placeholder": "​",
       "style": "IPY_MODEL_9254ad4d06534ce69b99eb413bc26bde",
       "value": " 28.0/28.0 [00:00&lt;00:00, 1.09kB/s]"
      }
     },
     "85ef72fd644e4072b88a61b6478f5c9e": {
      "model_module": "@jupyter-widgets/controls",
      "model_module_version": "1.5.0",
      "model_name": "HBoxModel",
      "state": {
       "_dom_classes": [],
       "_model_module": "@jupyter-widgets/controls",
       "_model_module_version": "1.5.0",
       "_model_name": "HBoxModel",
       "_view_count": null,
       "_view_module": "@jupyter-widgets/controls",
       "_view_module_version": "1.5.0",
       "_view_name": "HBoxView",
       "box_style": "",
       "children": [
        "IPY_MODEL_e82ca7ef9df34f61a04038c2dbb4b117",
        "IPY_MODEL_7ef9a0410b814920b81969befe509177",
        "IPY_MODEL_3bf9fac25db44715b417ea12fa4f1c7e"
       ],
       "layout": "IPY_MODEL_61f4ae7b134848219f5cb874f9b306df"
      }
     },
     "908261af911f427b8149234e4c2eea63": {
      "model_module": "@jupyter-widgets/controls",
      "model_module_version": "1.5.0",
      "model_name": "ProgressStyleModel",
      "state": {
       "_model_module": "@jupyter-widgets/controls",
       "_model_module_version": "1.5.0",
       "_model_name": "ProgressStyleModel",
       "_view_count": null,
       "_view_module": "@jupyter-widgets/base",
       "_view_module_version": "1.2.0",
       "_view_name": "StyleView",
       "bar_color": null,
       "description_width": ""
      }
     },
     "90acaf43664d4811aa4ee9c8acd12a8f": {
      "model_module": "@jupyter-widgets/base",
      "model_module_version": "1.2.0",
      "model_name": "LayoutModel",
      "state": {
       "_model_module": "@jupyter-widgets/base",
       "_model_module_version": "1.2.0",
       "_model_name": "LayoutModel",
       "_view_count": null,
       "_view_module": "@jupyter-widgets/base",
       "_view_module_version": "1.2.0",
       "_view_name": "LayoutView",
       "align_content": null,
       "align_items": null,
       "align_self": null,
       "border": null,
       "bottom": null,
       "display": null,
       "flex": null,
       "flex_flow": null,
       "grid_area": null,
       "grid_auto_columns": null,
       "grid_auto_flow": null,
       "grid_auto_rows": null,
       "grid_column": null,
       "grid_gap": null,
       "grid_row": null,
       "grid_template_areas": null,
       "grid_template_columns": null,
       "grid_template_rows": null,
       "height": null,
       "justify_content": null,
       "justify_items": null,
       "left": null,
       "margin": null,
       "max_height": null,
       "max_width": null,
       "min_height": null,
       "min_width": null,
       "object_fit": null,
       "object_position": null,
       "order": null,
       "overflow": null,
       "overflow_x": null,
       "overflow_y": null,
       "padding": null,
       "right": null,
       "top": null,
       "visibility": null,
       "width": null
      }
     },
     "9254ad4d06534ce69b99eb413bc26bde": {
      "model_module": "@jupyter-widgets/controls",
      "model_module_version": "1.5.0",
      "model_name": "DescriptionStyleModel",
      "state": {
       "_model_module": "@jupyter-widgets/controls",
       "_model_module_version": "1.5.0",
       "_model_name": "DescriptionStyleModel",
       "_view_count": null,
       "_view_module": "@jupyter-widgets/base",
       "_view_module_version": "1.2.0",
       "_view_name": "StyleView",
       "description_width": ""
      }
     },
     "9b8cefb29f4b449a84ecd9ffaebc3cc1": {
      "model_module": "@jupyter-widgets/base",
      "model_module_version": "1.2.0",
      "model_name": "LayoutModel",
      "state": {
       "_model_module": "@jupyter-widgets/base",
       "_model_module_version": "1.2.0",
       "_model_name": "LayoutModel",
       "_view_count": null,
       "_view_module": "@jupyter-widgets/base",
       "_view_module_version": "1.2.0",
       "_view_name": "LayoutView",
       "align_content": null,
       "align_items": null,
       "align_self": null,
       "border": null,
       "bottom": null,
       "display": null,
       "flex": null,
       "flex_flow": null,
       "grid_area": null,
       "grid_auto_columns": null,
       "grid_auto_flow": null,
       "grid_auto_rows": null,
       "grid_column": null,
       "grid_gap": null,
       "grid_row": null,
       "grid_template_areas": null,
       "grid_template_columns": null,
       "grid_template_rows": null,
       "height": null,
       "justify_content": null,
       "justify_items": null,
       "left": null,
       "margin": null,
       "max_height": null,
       "max_width": null,
       "min_height": null,
       "min_width": null,
       "object_fit": null,
       "object_position": null,
       "order": null,
       "overflow": null,
       "overflow_x": null,
       "overflow_y": null,
       "padding": null,
       "right": null,
       "top": null,
       "visibility": null,
       "width": null
      }
     },
     "a0153143882949d1815784d6129fcbc8": {
      "model_module": "@jupyter-widgets/controls",
      "model_module_version": "1.5.0",
      "model_name": "DescriptionStyleModel",
      "state": {
       "_model_module": "@jupyter-widgets/controls",
       "_model_module_version": "1.5.0",
       "_model_name": "DescriptionStyleModel",
       "_view_count": null,
       "_view_module": "@jupyter-widgets/base",
       "_view_module_version": "1.2.0",
       "_view_name": "StyleView",
       "description_width": ""
      }
     },
     "a1d7f32fba7e4585aa8fcc3c36d3edfd": {
      "model_module": "@jupyter-widgets/controls",
      "model_module_version": "1.5.0",
      "model_name": "ProgressStyleModel",
      "state": {
       "_model_module": "@jupyter-widgets/controls",
       "_model_module_version": "1.5.0",
       "_model_name": "ProgressStyleModel",
       "_view_count": null,
       "_view_module": "@jupyter-widgets/base",
       "_view_module_version": "1.2.0",
       "_view_name": "StyleView",
       "bar_color": null,
       "description_width": ""
      }
     },
     "af9d43ec62444aa6b767177af5beee59": {
      "model_module": "@jupyter-widgets/base",
      "model_module_version": "1.2.0",
      "model_name": "LayoutModel",
      "state": {
       "_model_module": "@jupyter-widgets/base",
       "_model_module_version": "1.2.0",
       "_model_name": "LayoutModel",
       "_view_count": null,
       "_view_module": "@jupyter-widgets/base",
       "_view_module_version": "1.2.0",
       "_view_name": "LayoutView",
       "align_content": null,
       "align_items": null,
       "align_self": null,
       "border": null,
       "bottom": null,
       "display": null,
       "flex": null,
       "flex_flow": null,
       "grid_area": null,
       "grid_auto_columns": null,
       "grid_auto_flow": null,
       "grid_auto_rows": null,
       "grid_column": null,
       "grid_gap": null,
       "grid_row": null,
       "grid_template_areas": null,
       "grid_template_columns": null,
       "grid_template_rows": null,
       "height": null,
       "justify_content": null,
       "justify_items": null,
       "left": null,
       "margin": null,
       "max_height": null,
       "max_width": null,
       "min_height": null,
       "min_width": null,
       "object_fit": null,
       "object_position": null,
       "order": null,
       "overflow": null,
       "overflow_x": null,
       "overflow_y": null,
       "padding": null,
       "right": null,
       "top": null,
       "visibility": null,
       "width": null
      }
     },
     "cee3eb471b8749449d61b70f7ec6af1e": {
      "model_module": "@jupyter-widgets/base",
      "model_module_version": "1.2.0",
      "model_name": "LayoutModel",
      "state": {
       "_model_module": "@jupyter-widgets/base",
       "_model_module_version": "1.2.0",
       "_model_name": "LayoutModel",
       "_view_count": null,
       "_view_module": "@jupyter-widgets/base",
       "_view_module_version": "1.2.0",
       "_view_name": "LayoutView",
       "align_content": null,
       "align_items": null,
       "align_self": null,
       "border": null,
       "bottom": null,
       "display": null,
       "flex": null,
       "flex_flow": null,
       "grid_area": null,
       "grid_auto_columns": null,
       "grid_auto_flow": null,
       "grid_auto_rows": null,
       "grid_column": null,
       "grid_gap": null,
       "grid_row": null,
       "grid_template_areas": null,
       "grid_template_columns": null,
       "grid_template_rows": null,
       "height": null,
       "justify_content": null,
       "justify_items": null,
       "left": null,
       "margin": null,
       "max_height": null,
       "max_width": null,
       "min_height": null,
       "min_width": null,
       "object_fit": null,
       "object_position": null,
       "order": null,
       "overflow": null,
       "overflow_x": null,
       "overflow_y": null,
       "padding": null,
       "right": null,
       "top": null,
       "visibility": null,
       "width": null
      }
     },
     "d0305c6c9f804b0fac0d3b5996d49367": {
      "model_module": "@jupyter-widgets/controls",
      "model_module_version": "1.5.0",
      "model_name": "DescriptionStyleModel",
      "state": {
       "_model_module": "@jupyter-widgets/controls",
       "_model_module_version": "1.5.0",
       "_model_name": "DescriptionStyleModel",
       "_view_count": null,
       "_view_module": "@jupyter-widgets/base",
       "_view_module_version": "1.2.0",
       "_view_name": "StyleView",
       "description_width": ""
      }
     },
     "d0fc728b73cf4601a77a909ef895c643": {
      "model_module": "@jupyter-widgets/controls",
      "model_module_version": "1.5.0",
      "model_name": "ProgressStyleModel",
      "state": {
       "_model_module": "@jupyter-widgets/controls",
       "_model_module_version": "1.5.0",
       "_model_name": "ProgressStyleModel",
       "_view_count": null,
       "_view_module": "@jupyter-widgets/base",
       "_view_module_version": "1.2.0",
       "_view_name": "StyleView",
       "bar_color": null,
       "description_width": ""
      }
     },
     "dd60b9b25d5e452ca2b7f9e41a48ffac": {
      "model_module": "@jupyter-widgets/controls",
      "model_module_version": "1.5.0",
      "model_name": "HTMLModel",
      "state": {
       "_dom_classes": [],
       "_model_module": "@jupyter-widgets/controls",
       "_model_module_version": "1.5.0",
       "_model_name": "HTMLModel",
       "_view_count": null,
       "_view_module": "@jupyter-widgets/controls",
       "_view_module_version": "1.5.0",
       "_view_name": "HTMLView",
       "description": "",
       "description_tooltip": null,
       "layout": "IPY_MODEL_80889ee4e57e4002856c5eb071a2ee29",
       "placeholder": "​",
       "style": "IPY_MODEL_4da3678b455746739fd6b8b47957674b",
       "value": " 1.25G/1.25G [00:43&lt;00:00, 32.1MB/s]"
      }
     },
     "e82ca7ef9df34f61a04038c2dbb4b117": {
      "model_module": "@jupyter-widgets/controls",
      "model_module_version": "1.5.0",
      "model_name": "HTMLModel",
      "state": {
       "_dom_classes": [],
       "_model_module": "@jupyter-widgets/controls",
       "_model_module_version": "1.5.0",
       "_model_name": "HTMLModel",
       "_view_count": null,
       "_view_module": "@jupyter-widgets/controls",
       "_view_module_version": "1.5.0",
       "_view_name": "HTMLView",
       "description": "",
       "description_tooltip": null,
       "layout": "IPY_MODEL_fe60de553c534f9aaaccbf68fa61dbd0",
       "placeholder": "​",
       "style": "IPY_MODEL_5200692436054f9cba95ac7e5d44bbc2",
       "value": "Downloading: 100%"
      }
     },
     "ef12304e17be4aa9bf2d7a1f092cfd5e": {
      "model_module": "@jupyter-widgets/base",
      "model_module_version": "1.2.0",
      "model_name": "LayoutModel",
      "state": {
       "_model_module": "@jupyter-widgets/base",
       "_model_module_version": "1.2.0",
       "_model_name": "LayoutModel",
       "_view_count": null,
       "_view_module": "@jupyter-widgets/base",
       "_view_module_version": "1.2.0",
       "_view_name": "LayoutView",
       "align_content": null,
       "align_items": null,
       "align_self": null,
       "border": null,
       "bottom": null,
       "display": null,
       "flex": null,
       "flex_flow": null,
       "grid_area": null,
       "grid_auto_columns": null,
       "grid_auto_flow": null,
       "grid_auto_rows": null,
       "grid_column": null,
       "grid_gap": null,
       "grid_row": null,
       "grid_template_areas": null,
       "grid_template_columns": null,
       "grid_template_rows": null,
       "height": null,
       "justify_content": null,
       "justify_items": null,
       "left": null,
       "margin": null,
       "max_height": null,
       "max_width": null,
       "min_height": null,
       "min_width": null,
       "object_fit": null,
       "object_position": null,
       "order": null,
       "overflow": null,
       "overflow_x": null,
       "overflow_y": null,
       "padding": null,
       "right": null,
       "top": null,
       "visibility": null,
       "width": null
      }
     },
     "ef4a90d8683545c88139da77d2c9b606": {
      "model_module": "@jupyter-widgets/controls",
      "model_module_version": "1.5.0",
      "model_name": "DescriptionStyleModel",
      "state": {
       "_model_module": "@jupyter-widgets/controls",
       "_model_module_version": "1.5.0",
       "_model_name": "DescriptionStyleModel",
       "_view_count": null,
       "_view_module": "@jupyter-widgets/base",
       "_view_module_version": "1.2.0",
       "_view_name": "StyleView",
       "description_width": ""
      }
     },
     "ef794df0290344de8339cabe80b6aa63": {
      "model_module": "@jupyter-widgets/base",
      "model_module_version": "1.2.0",
      "model_name": "LayoutModel",
      "state": {
       "_model_module": "@jupyter-widgets/base",
       "_model_module_version": "1.2.0",
       "_model_name": "LayoutModel",
       "_view_count": null,
       "_view_module": "@jupyter-widgets/base",
       "_view_module_version": "1.2.0",
       "_view_name": "LayoutView",
       "align_content": null,
       "align_items": null,
       "align_self": null,
       "border": null,
       "bottom": null,
       "display": null,
       "flex": null,
       "flex_flow": null,
       "grid_area": null,
       "grid_auto_columns": null,
       "grid_auto_flow": null,
       "grid_auto_rows": null,
       "grid_column": null,
       "grid_gap": null,
       "grid_row": null,
       "grid_template_areas": null,
       "grid_template_columns": null,
       "grid_template_rows": null,
       "height": null,
       "justify_content": null,
       "justify_items": null,
       "left": null,
       "margin": null,
       "max_height": null,
       "max_width": null,
       "min_height": null,
       "min_width": null,
       "object_fit": null,
       "object_position": null,
       "order": null,
       "overflow": null,
       "overflow_x": null,
       "overflow_y": null,
       "padding": null,
       "right": null,
       "top": null,
       "visibility": null,
       "width": null
      }
     },
     "f2e8a02482c74a10a6a13d2f5ee89357": {
      "model_module": "@jupyter-widgets/controls",
      "model_module_version": "1.5.0",
      "model_name": "HBoxModel",
      "state": {
       "_dom_classes": [],
       "_model_module": "@jupyter-widgets/controls",
       "_model_module_version": "1.5.0",
       "_model_name": "HBoxModel",
       "_view_count": null,
       "_view_module": "@jupyter-widgets/controls",
       "_view_module_version": "1.5.0",
       "_view_name": "HBoxView",
       "box_style": "",
       "children": [
        "IPY_MODEL_4b5ed0a4eb3c43dab2f9539954ddfab0",
        "IPY_MODEL_0f4a881cb4de4372b571cf6f3c89c880",
        "IPY_MODEL_33c6bbcf7ebf43ad9c55ae9096f8366b"
       ],
       "layout": "IPY_MODEL_90acaf43664d4811aa4ee9c8acd12a8f"
      }
     },
     "fe60de553c534f9aaaccbf68fa61dbd0": {
      "model_module": "@jupyter-widgets/base",
      "model_module_version": "1.2.0",
      "model_name": "LayoutModel",
      "state": {
       "_model_module": "@jupyter-widgets/base",
       "_model_module_version": "1.2.0",
       "_model_name": "LayoutModel",
       "_view_count": null,
       "_view_module": "@jupyter-widgets/base",
       "_view_module_version": "1.2.0",
       "_view_name": "LayoutView",
       "align_content": null,
       "align_items": null,
       "align_self": null,
       "border": null,
       "bottom": null,
       "display": null,
       "flex": null,
       "flex_flow": null,
       "grid_area": null,
       "grid_auto_columns": null,
       "grid_auto_flow": null,
       "grid_auto_rows": null,
       "grid_column": null,
       "grid_gap": null,
       "grid_row": null,
       "grid_template_areas": null,
       "grid_template_columns": null,
       "grid_template_rows": null,
       "height": null,
       "justify_content": null,
       "justify_items": null,
       "left": null,
       "margin": null,
       "max_height": null,
       "max_width": null,
       "min_height": null,
       "min_width": null,
       "object_fit": null,
       "object_position": null,
       "order": null,
       "overflow": null,
       "overflow_x": null,
       "overflow_y": null,
       "padding": null,
       "right": null,
       "top": null,
       "visibility": null,
       "width": null
      }
     }
    },
    "version_major": 2,
    "version_minor": 0
   }
  }
 },
 "nbformat": 4,
 "nbformat_minor": 5
}
